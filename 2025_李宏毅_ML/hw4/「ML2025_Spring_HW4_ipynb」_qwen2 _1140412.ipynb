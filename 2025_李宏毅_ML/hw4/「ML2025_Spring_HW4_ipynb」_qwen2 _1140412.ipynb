{
  "nbformat": 4,
  "nbformat_minor": 0,
  "metadata": {
    "colab": {
      "provenance": [],
      "gpuType": "T4"
    },
    "kernelspec": {
      "name": "python3",
      "display_name": "Python 3"
    },
    "language_info": {
      "name": "python"
    },
    "accelerator": "GPU"
  },
  "cells": [
    {
      "cell_type": "markdown",
      "source": [
        "# Training Transformer\n",
        "\n",
        "### TA's Slide\n",
        "[Slide](https://docs.google.com/presentation/d/1ga0d43mWyrfHjdkp7FG3iWcEKTGr8CdkifYhhi4LBY8/edit?usp=sharing)\n",
        "\n",
        "### Description\n",
        "In this assignment, we are tasked with utilizing a transformer decoder-only architecture for pretraining, with a focus on next-token prediction, applied to Pokémon images.\n",
        "\n",
        "Please feel free to mail us if you have any questions.\n",
        "\n",
        "ntu-ml-2025-spring-ta@googlegroups.com"
      ],
      "metadata": {
        "id": "QUwfibz3pw_R"
      }
    },
    {
      "cell_type": "markdown",
      "source": [
        "# Utilities"
      ],
      "metadata": {
        "id": "8TSNIY5SAZUR"
      }
    },
    {
      "cell_type": "markdown",
      "source": [
        "### Download packages"
      ],
      "metadata": {
        "id": "LlFjd2Jya7Me"
      }
    },
    {
      "cell_type": "code",
      "source": [
        "!pip install datasets==3.3.2"
      ],
      "metadata": {
        "colab": {
          "base_uri": "https://localhost:8080/"
        },
        "id": "fLdY0QcGsfii",
        "outputId": "a55ea681-4d21-4f11-b340-cdbc77a61a2c"
      },
      "execution_count": 1,
      "outputs": [
        {
          "output_type": "stream",
          "name": "stdout",
          "text": [
            "Requirement already satisfied: datasets==3.3.2 in /usr/local/lib/python3.11/dist-packages (3.3.2)\n",
            "Requirement already satisfied: filelock in /usr/local/lib/python3.11/dist-packages (from datasets==3.3.2) (3.18.0)\n",
            "Requirement already satisfied: numpy>=1.17 in /usr/local/lib/python3.11/dist-packages (from datasets==3.3.2) (2.0.2)\n",
            "Requirement already satisfied: pyarrow>=15.0.0 in /usr/local/lib/python3.11/dist-packages (from datasets==3.3.2) (18.1.0)\n",
            "Requirement already satisfied: dill<0.3.9,>=0.3.0 in /usr/local/lib/python3.11/dist-packages (from datasets==3.3.2) (0.3.8)\n",
            "Requirement already satisfied: pandas in /usr/local/lib/python3.11/dist-packages (from datasets==3.3.2) (2.2.2)\n",
            "Requirement already satisfied: requests>=2.32.2 in /usr/local/lib/python3.11/dist-packages (from datasets==3.3.2) (2.32.3)\n",
            "Requirement already satisfied: tqdm>=4.66.3 in /usr/local/lib/python3.11/dist-packages (from datasets==3.3.2) (4.67.1)\n",
            "Requirement already satisfied: xxhash in /usr/local/lib/python3.11/dist-packages (from datasets==3.3.2) (3.5.0)\n",
            "Requirement already satisfied: multiprocess<0.70.17 in /usr/local/lib/python3.11/dist-packages (from datasets==3.3.2) (0.70.16)\n",
            "Requirement already satisfied: fsspec<=2024.12.0,>=2023.1.0 in /usr/local/lib/python3.11/dist-packages (from fsspec[http]<=2024.12.0,>=2023.1.0->datasets==3.3.2) (2024.12.0)\n",
            "Requirement already satisfied: aiohttp in /usr/local/lib/python3.11/dist-packages (from datasets==3.3.2) (3.11.15)\n",
            "Requirement already satisfied: huggingface-hub>=0.24.0 in /usr/local/lib/python3.11/dist-packages (from datasets==3.3.2) (0.30.1)\n",
            "Requirement already satisfied: packaging in /usr/local/lib/python3.11/dist-packages (from datasets==3.3.2) (24.2)\n",
            "Requirement already satisfied: pyyaml>=5.1 in /usr/local/lib/python3.11/dist-packages (from datasets==3.3.2) (6.0.2)\n",
            "Requirement already satisfied: aiohappyeyeballs>=2.3.0 in /usr/local/lib/python3.11/dist-packages (from aiohttp->datasets==3.3.2) (2.6.1)\n",
            "Requirement already satisfied: aiosignal>=1.1.2 in /usr/local/lib/python3.11/dist-packages (from aiohttp->datasets==3.3.2) (1.3.2)\n",
            "Requirement already satisfied: attrs>=17.3.0 in /usr/local/lib/python3.11/dist-packages (from aiohttp->datasets==3.3.2) (25.3.0)\n",
            "Requirement already satisfied: frozenlist>=1.1.1 in /usr/local/lib/python3.11/dist-packages (from aiohttp->datasets==3.3.2) (1.5.0)\n",
            "Requirement already satisfied: multidict<7.0,>=4.5 in /usr/local/lib/python3.11/dist-packages (from aiohttp->datasets==3.3.2) (6.3.2)\n",
            "Requirement already satisfied: propcache>=0.2.0 in /usr/local/lib/python3.11/dist-packages (from aiohttp->datasets==3.3.2) (0.3.1)\n",
            "Requirement already satisfied: yarl<2.0,>=1.17.0 in /usr/local/lib/python3.11/dist-packages (from aiohttp->datasets==3.3.2) (1.18.3)\n",
            "Requirement already satisfied: typing-extensions>=3.7.4.3 in /usr/local/lib/python3.11/dist-packages (from huggingface-hub>=0.24.0->datasets==3.3.2) (4.13.1)\n",
            "Requirement already satisfied: charset-normalizer<4,>=2 in /usr/local/lib/python3.11/dist-packages (from requests>=2.32.2->datasets==3.3.2) (3.4.1)\n",
            "Requirement already satisfied: idna<4,>=2.5 in /usr/local/lib/python3.11/dist-packages (from requests>=2.32.2->datasets==3.3.2) (3.10)\n",
            "Requirement already satisfied: urllib3<3,>=1.21.1 in /usr/local/lib/python3.11/dist-packages (from requests>=2.32.2->datasets==3.3.2) (2.3.0)\n",
            "Requirement already satisfied: certifi>=2017.4.17 in /usr/local/lib/python3.11/dist-packages (from requests>=2.32.2->datasets==3.3.2) (2025.1.31)\n",
            "Requirement already satisfied: python-dateutil>=2.8.2 in /usr/local/lib/python3.11/dist-packages (from pandas->datasets==3.3.2) (2.8.2)\n",
            "Requirement already satisfied: pytz>=2020.1 in /usr/local/lib/python3.11/dist-packages (from pandas->datasets==3.3.2) (2025.2)\n",
            "Requirement already satisfied: tzdata>=2022.7 in /usr/local/lib/python3.11/dist-packages (from pandas->datasets==3.3.2) (2025.2)\n",
            "Requirement already satisfied: six>=1.5 in /usr/local/lib/python3.11/dist-packages (from python-dateutil>=2.8.2->pandas->datasets==3.3.2) (1.17.0)\n"
          ]
        }
      ]
    },
    {
      "cell_type": "markdown",
      "source": [
        "### Import Packages"
      ],
      "metadata": {
        "id": "kY7XIt-Msf5K"
      }
    },
    {
      "cell_type": "code",
      "source": [
        "import os\n",
        "import matplotlib.pyplot as plt\n",
        "import numpy as np\n",
        "import torch\n",
        "import torch.optim as optim\n",
        "from PIL import Image\n",
        "from torch import nn\n",
        "from torch.utils.data import DataLoader, Dataset\n",
        "from tqdm import tqdm\n",
        "from transformers import AutoModelForCausalLM, GPT2Config, set_seed, Qwen2Model, Qwen2Config\n",
        "from datasets import load_dataset\n",
        "from typing import Dict, Any, Optional"
      ],
      "metadata": {
        "id": "OJ_4mAauKFu1"
      },
      "execution_count": 2,
      "outputs": []
    },
    {
      "cell_type": "markdown",
      "source": [
        "### Check Devices"
      ],
      "metadata": {
        "id": "WixuPQuGbG_z"
      }
    },
    {
      "cell_type": "code",
      "source": [
        "!nvidia-smi"
      ],
      "metadata": {
        "colab": {
          "base_uri": "https://localhost:8080/"
        },
        "id": "9COb5XCNbJA_",
        "outputId": "44843763-aa36-4c81-bdaa-dba1aaf39d10"
      },
      "execution_count": 3,
      "outputs": [
        {
          "output_type": "stream",
          "name": "stdout",
          "text": [
            "Sat Apr 12 15:35:49 2025       \n",
            "+-----------------------------------------------------------------------------------------+\n",
            "| NVIDIA-SMI 550.54.15              Driver Version: 550.54.15      CUDA Version: 12.4     |\n",
            "|-----------------------------------------+------------------------+----------------------+\n",
            "| GPU  Name                 Persistence-M | Bus-Id          Disp.A | Volatile Uncorr. ECC |\n",
            "| Fan  Temp   Perf          Pwr:Usage/Cap |           Memory-Usage | GPU-Util  Compute M. |\n",
            "|                                         |                        |               MIG M. |\n",
            "|=========================================+========================+======================|\n",
            "|   0  Tesla T4                       Off |   00000000:00:04.0 Off |                    0 |\n",
            "| N/A   51C    P8             10W /   70W |       0MiB /  15360MiB |      0%      Default |\n",
            "|                                         |                        |                  N/A |\n",
            "+-----------------------------------------+------------------------+----------------------+\n",
            "                                                                                         \n",
            "+-----------------------------------------------------------------------------------------+\n",
            "| Processes:                                                                              |\n",
            "|  GPU   GI   CI        PID   Type   Process name                              GPU Memory |\n",
            "|        ID   ID                                                               Usage      |\n",
            "|=========================================================================================|\n",
            "|  No running processes found                                                             |\n",
            "+-----------------------------------------------------------------------------------------+\n"
          ]
        }
      ]
    },
    {
      "cell_type": "markdown",
      "source": [
        "### Set Random Seed"
      ],
      "metadata": {
        "id": "plHUxP_oeh2U"
      }
    },
    {
      "cell_type": "code",
      "source": [
        "# 讓code可以reproduce\n",
        "set_seed(0)"
      ],
      "metadata": {
        "id": "Z3YIraV3ehgv"
      },
      "execution_count": 4,
      "outputs": []
    },
    {
      "cell_type": "markdown",
      "source": [
        "# Prepare Data"
      ],
      "metadata": {
        "id": "w4p3ErI1AaYq"
      }
    },
    {
      "cell_type": "markdown",
      "source": [
        "### Define Dataset"
      ],
      "metadata": {
        "id": "1J0xr161bREA"
      }
    },
    {
      "cell_type": "code",
      "source": [
        "from typing import List, Tuple, Union\n",
        "import torch\n",
        "from torch.utils.data import Dataset\n",
        "\n",
        "# 建dataset的path\n",
        "class PixelSequenceDataset(Dataset):\n",
        "    def __init__(self, data: List[List[int]], mode: str = \"train\"):\n",
        "        \"\"\"\n",
        "        A dataset class for handling pixel sequences.\n",
        "\n",
        "        Args:\n",
        "            data (List[List[int]]): A list of sequences, where each sequence is a list of integers.\n",
        "            mode (str): The mode of operation, either \"train\", \"dev\", or \"test\".\n",
        "                - \"train\": Returns (input_ids, labels) where input_ids are sequence[:-1] and labels are sequence[1:].\n",
        "                - \"dev\": Returns (input_ids, labels) where input_ids are sequence[:-160] and labels are sequence[-160:].\n",
        "                - \"test\": Returns only input_ids, as labels are not available.\n",
        "        \"\"\"\n",
        "        self.data = data\n",
        "        self.mode = mode\n",
        "\n",
        "    def __len__(self) -> int:\n",
        "        \"\"\"Returns the total number of sequences in the dataset.\"\"\"\n",
        "        return len(self.data)\n",
        "\n",
        "    def __getitem__(self, idx: int) -> Union[Tuple[torch.Tensor, torch.Tensor], torch.Tensor]:\n",
        "        \"\"\"\n",
        "        Fetches a sequence from the dataset and processes it based on the mode.\n",
        "\n",
        "        Args:\n",
        "            idx (int): The index of the sequence.\n",
        "\n",
        "        Returns:\n",
        "            - If mode == \"train\": Tuple[torch.Tensor, torch.Tensor] -> (input_ids, labels)\n",
        "            - If mode == \"dev\": Tuple[torch.Tensor, torch.Tensor] -> (input_ids, labels)\n",
        "            - If mode == \"test\": torch.Tensor -> input_ids\n",
        "        每個sequence都代表一張圖片，一串pixel\n",
        "\n",
        "        \"\"\"\n",
        "        sequence = self.data[idx]\n",
        "\n",
        "        if self.mode == \"train\":\n",
        "            # input是除了最後一個token的sequence\n",
        "            input_ids = torch.tensor(sequence[:-1], dtype=torch.long)\n",
        "            # label是除了第一個token的sequence\n",
        "            labels = torch.tensor(sequence[1:], dtype=torch.long)\n",
        "            return input_ids, labels\n",
        "\n",
        "        elif self.mode == \"dev\":\n",
        "            # 前面60%的sequence\n",
        "            input_ids = torch.tensor(sequence[:-160], dtype=torch.long)\n",
        "            # 後面40%的sequence\n",
        "            labels = torch.tensor(sequence[-160:], dtype=torch.long)\n",
        "            return input_ids, labels\n",
        "        # 只有inputs\n",
        "        elif self.mode == \"test\":\n",
        "            input_ids = torch.tensor(sequence, dtype=torch.long)\n",
        "            return input_ids\n",
        "\n",
        "        raise ValueError(f\"Invalid mode: {self.mode}. Choose from 'train', 'dev', or 'test'.\")"
      ],
      "metadata": {
        "id": "Bi9YvYn3uD32"
      },
      "execution_count": 5,
      "outputs": []
    },
    {
      "cell_type": "markdown",
      "source": [
        "### Download Dataset & Prepare Dataloader"
      ],
      "metadata": {
        "id": "zY6TJDuNbdTr"
      }
    },
    {
      "cell_type": "code",
      "source": [
        "# Load the pokemon dataset from Hugging Face Hub\n",
        "pokemon_dataset = load_dataset(\"lca0503/ml2025-hw4-pokemon\")\n",
        "\n",
        "# Load the colormap from Hugging Face Hub\n",
        "colormap = list(load_dataset(\"lca0503/ml2025-hw4-colormap\")[\"train\"][\"color\"])\n",
        "\n",
        "# Define number of classes\n",
        "num_classes = len(colormap)\n",
        "print(num_classes)\n",
        "\n",
        "# Define batch size\n",
        "batch_size = 16\n",
        "\n",
        "\n",
        "# === Prepare Dataset and DataLoader for Training ===\n",
        "train_dataset: PixelSequenceDataset = PixelSequenceDataset(\n",
        "    pokemon_dataset[\"train\"][\"pixel_color\"], mode=\"train\"\n",
        ")\n",
        "train_dataloader: DataLoader = DataLoader(\n",
        "    train_dataset, batch_size=batch_size, shuffle=True\n",
        ")\n",
        "\n",
        "# === Prepare Dataset and DataLoader for Validation ===\n",
        "dev_dataset: PixelSequenceDataset = PixelSequenceDataset(\n",
        "    pokemon_dataset[\"dev\"][\"pixel_color\"], mode=\"dev\"\n",
        ")\n",
        "dev_dataloader: DataLoader = DataLoader(\n",
        "    dev_dataset, batch_size=batch_size, shuffle=False\n",
        ")\n",
        "\n",
        "# === Prepare Dataset and DataLoader for Testing ===\n",
        "test_dataset: PixelSequenceDataset = PixelSequenceDataset(\n",
        "    pokemon_dataset[\"test\"][\"pixel_color\"], mode=\"test\"\n",
        ")\n",
        "test_dataloader: DataLoader = DataLoader(\n",
        "    test_dataset, batch_size=batch_size, shuffle=False\n",
        ")"
      ],
      "metadata": {
        "id": "lHXfCPXoBEUD",
        "colab": {
          "base_uri": "https://localhost:8080/"
        },
        "outputId": "65861865-0e5c-496e-d705-18ec6a331400"
      },
      "execution_count": 6,
      "outputs": [
        {
          "output_type": "stream",
          "name": "stderr",
          "text": [
            "/usr/local/lib/python3.11/dist-packages/huggingface_hub/utils/_auth.py:94: UserWarning: \n",
            "The secret `HF_TOKEN` does not exist in your Colab secrets.\n",
            "To authenticate with the Hugging Face Hub, create a token in your settings tab (https://huggingface.co/settings/tokens), set it as secret in your Google Colab and restart your session.\n",
            "You will be able to reuse this secret in all of your notebooks.\n",
            "Please note that authentication is recommended but still optional to access public models or datasets.\n",
            "  warnings.warn(\n"
          ]
        },
        {
          "output_type": "stream",
          "name": "stdout",
          "text": [
            "167\n"
          ]
        }
      ]
    },
    {
      "cell_type": "markdown",
      "source": [
        "### Visualization"
      ],
      "metadata": {
        "id": "Ink91WB5BGxv"
      }
    },
    {
      "cell_type": "code",
      "source": [
        "# 可以看training/testing(每張圖都只有60%部分) sets裡面圖片的長相\n",
        "def pixel_to_image(pixel_color: List[int], colormap: List[List[int]]) -> Image.Image:\n",
        "    \"\"\"\n",
        "    Converts a list of pixel indices into a 20x20 RGB image using a colormap.\n",
        "\n",
        "    Args:\n",
        "        pixel_color (List[int]): A list of pixel indices representing colors.\n",
        "        colormap (List[List[int]]): A list where each index maps to an RGB color [R, G, B].\n",
        "\n",
        "    Returns:\n",
        "        Image.Image: A PIL Image object representing the reconstructed image.\n",
        "    \"\"\"\n",
        "    # Ensure the pixel_color list has at least 400 elements (pad with 0s if needed)\n",
        "    while len(pixel_color) < 400:\n",
        "        pixel_color.append(0)\n",
        "\n",
        "    # Map pixel indices to actual RGB colors using the colormap\n",
        "    pixel_data = [colormap[pixel] for pixel in pixel_color]\n",
        "\n",
        "    # Convert to numpy array and reshape to 20x20x3 (RGB image)\n",
        "    image_array = np.array(pixel_data, dtype=np.uint8).reshape(20, 20, 3)\n",
        "\n",
        "    # Create a PIL Image from the array\n",
        "    image = Image.fromarray(image_array)\n",
        "\n",
        "    return image\n",
        "\n",
        "def show_images(images: List[Image.Image]) -> None:\n",
        "    \"\"\"\n",
        "    Displays a grid of up to 96 images using Matplotlib.\n",
        "\n",
        "    Args:\n",
        "        images (List[Image.Image]): A list of PIL Image objects to display.\n",
        "\n",
        "    Returns:\n",
        "        None\n",
        "    \"\"\"\n",
        "    num_images = min(96, len(images))  # Limit to 96 images\n",
        "\n",
        "    # Set up the figure size and grid layout (6 rows, 16 columns)\n",
        "    fig, axes = plt.subplots(6, 16, figsize=(16, 6))\n",
        "    axes = axes.flatten()  # Flatten to make iteration easier\n",
        "\n",
        "    # Loop through images and display each one in the grid\n",
        "    for i, ax in enumerate(axes):\n",
        "        if i < num_images:\n",
        "            ax.imshow(images[i])\n",
        "            ax.axis('off')  # Hide axis\n",
        "        else:\n",
        "            ax.axis('off')  # Hide unused subplots\n",
        "\n",
        "    plt.tight_layout()  # Adjust layout to prevent overlap\n",
        "    plt.show()"
      ],
      "metadata": {
        "id": "ARCMjCUfBGV9"
      },
      "execution_count": 7,
      "outputs": []
    },
    {
      "cell_type": "code",
      "source": [
        "# Visualize train images\n",
        "train_images = [pixel_to_image(data[\"pixel_color\"], colormap) for data in pokemon_dataset[\"train\"]]\n",
        "show_images(train_images)"
      ],
      "metadata": {
        "colab": {
          "base_uri": "https://localhost:8080/",
          "height": 354
        },
        "id": "706fqI8NBJGm",
        "outputId": "31679350-8950-49a8-e17f-ee5654459139"
      },
      "execution_count": 8,
      "outputs": [
        {
          "output_type": "display_data",
          "data": {
            "text/plain": [
              "<Figure size 1600x600 with 96 Axes>"
            ],
            "image/png": "[encoded data removed]"
          },
          "metadata": {}
        }
      ]
    },
    {
      "cell_type": "code",
      "source": [
        "# Visualize test images\n",
        "test_images = [pixel_to_image(data[\"pixel_color\"], colormap) for data in pokemon_dataset[\"test\"]]\n",
        "show_images(test_images)"
      ],
      "metadata": {
        "colab": {
          "base_uri": "https://localhost:8080/",
          "height": 354
        },
        "id": "QtllXoTLBKXk",
        "outputId": "75088168-fc34-4cf1-a369-40f7e39df968"
      },
      "execution_count": 9,
      "outputs": [
        {
          "output_type": "display_data",
          "data": {
            "text/plain": [
              "<Figure size 1600x600 with 96 Axes>"
            ],
            "image/png": "[encoded data removed]"
          },
          "metadata": {}
        }
      ]
    },
    {
      "cell_type": "markdown",
      "source": [
        "# Prepare Model"
      ],
      "metadata": {
        "id": "wjbJUIxzBNEH"
      }
    },
    {
      "cell_type": "markdown",
      "source": [
        "### Model Configuration\n",
        "Here, we define the model configuration, including the architecture and key hyperparameters such as the number of attention heads, layers, embedding size, and more.\n",
        "*   Hint 1: Adjust hyperparameters here for improved performance.\n",
        "*   Hint 2: Experiment with different model architectures, such as Llama, Mistral, or Qwen, to enhance performance.\n",
        "  * [LlamaConfig](https://huggingface.co/docs/transformers/model_doc/llama#transformers.LlamaConfig)\n",
        "  * [MistralConfig](https://huggingface.co/docs/transformers/model_doc/mistral#transformers.MistralConfig)\n",
        "  * [Qwen2Config](https://huggingface.co/docs/transformers/model_doc/qwen2#transformers.Qwen2Config)\n",
        "  * [GPT2LMHeadModel](https://huggingface.co/docs/transformers/model_doc/gpt2#transformers.GPT2LMHeadModel)"
      ],
      "metadata": {
        "id": "o541odctzSc9"
      }
    },
    {
      "cell_type": "code",
      "source": [
        "# medium level可調hyperparameters\n",
        "# hard level可換model\n",
        "# Define GPT-2 model configuration as a dictionary\n",
        "#\n",
        "\n",
        "# llama_config = LlamaConfig(\n",
        "#     vocab_size=167,             # 不變，匹配像素值範圍\n",
        "#     hidden_size=256,            # 減小至 256，減少過擬合（原 512）\n",
        "#     intermediate_size=1024,     # 減至 1024，匹配 hidden_size 的 4 倍（原 2048）\n",
        "#     num_hidden_layers=4,        # 減至 4 層，進一步減小容量（原 6）\n",
        "#     num_attention_heads=4,      # 減至 4 頭，每頭維度 256/4=64（原 8）\n",
        "#     num_key_value_heads=2,      # 減至 2，保持 GQA（原 4）\n",
        "#     hidden_act=\"silu\",          # 不變，SiLU 表現穩定\n",
        "#     max_position_embeddings=512,# 不變，足以覆蓋 400\n",
        "#     initializer_range=0.02,     # 不變，默認值合理\n",
        "#     rms_norm_eps=1e-05,         # 不變，穩定性足夠\n",
        "#     attention_dropout=0.4,      # 增至 0.2，加強正則化（原 0.1）\n",
        "#     rope_theta=5000.0,         # 不變，序列長度合適\n",
        "#     use_cache=True,             # 不變，推理加速\n",
        "#     pad_token_id=166,           # 不變，匹配任務\n",
        "#     bos_token_id=0,             # 不變\n",
        "#     eos_token_id=1              # 不變\n",
        "# )\n",
        "#[目前次佳]\n",
        "# gpt2_config = {\n",
        "#     \"activation_function\": \"silu\",    # Activation function used in the model\n",
        "#     \"architectures\": [\"GPT2LMHeadModel\"],  # Specifies the model type\n",
        "#     \"attn_pdrop\": 0.05,            # Dropout rate for attention layers\n",
        "#     \"embd_pdrop\": 0.05,            # Dropout rate for embeddings\n",
        "#     \"initializer_range\": 0.05,        # Standard deviation for weight initialization\n",
        "#     \"layer_norm_epsilon\": 1e-05,       # Small constant to improve numerical stability in layer norm\n",
        "#     \"model_type\": \"gpt2\",           # Type of model\n",
        "#     \"n_ctx\": 512,               # Context size (maximum sequence length)\n",
        "#     \"n_embd\": 128,              # Embedding size\n",
        "#     \"n_head\": 4,               # Number of attention heads\n",
        "#     \"n_layer\": 6,              # Number of transformer layers\n",
        "#     \"n_positions\": 512,           # Maximum number of token positions\n",
        "#     \"resid_pdrop\": 0.05,           # Dropout rate for residual connections\n",
        "#     \"vocab_size\": num_classes,       # Number of unique tokens in vocabulary\n",
        "#     \"pad_token_id\": None,          # Padding token ID (None means no padding token)\n",
        "#     \"eos_token_id\": None,          # End-of-sequence token ID (None means not explicitly defined)\n",
        "# }\n",
        "\n",
        "# LOSS rate 0.996 正確率下降幅度14% epo60\n",
        "# LOSS rate 1.46 正確率下降幅度8.6%  epo50\n",
        "# epco:50 目前次佳\n",
        "# gpt2_config = {\n",
        "#     \"activation_function\": \"silu\",    # Activation function used in the model\n",
        "#     \"architectures\": [\"GPT2LMHeadModel\"],  # Specifies the model type\n",
        "#     \"attn_pdrop\": 0.1,            # Dropout rate for attention layers\n",
        "#     \"embd_pdrop\": 0.1,            # Dropout rate for embeddings\n",
        "#     \"initializer_range\": 0.01,        # Standard deviation for weight initialization\n",
        "#     \"layer_norm_epsilon\": 1e-05,       # Small constant to improve numerical stability in layer norm\n",
        "#     \"model_type\": \"gpt2\",           # Type of model\n",
        "#     \"n_ctx\": 512,               # Context size (maximum sequence length)\n",
        "#     \"n_embd\": 128,              # Embedding size\n",
        "#     \"n_head\": 4,               # Number of attention heads\n",
        "#     \"n_layer\": 6,              # Number of transformer layers\n",
        "#     \"n_positions\": 512,           # Maximum number of token positions\n",
        "#     \"resid_pdrop\": 0.1,           # Dropout rate for residual connections\n",
        "#     \"vocab_size\": num_classes,       # Number of unique tokens in vocabulary\n",
        "#     \"pad_token_id\": None,          # Padding token ID (None means no padding token)\n",
        "#     \"eos_token_id\": None,          # End-of-sequence token ID (None means not explicitly defined)\n",
        "# }\n",
        "\n",
        "#[qwen2]目前次佳\n",
        "# qwen2_config = {\n",
        "#     \"architectures\": [\"Qwen2ForCausalLM\"],  # Specifies the Qwen2 model type for causal language modeling\n",
        "#     \"model_type\": \"qwen2\",                 # Type of model\n",
        "#     \"vocab_size\": 167,                     # Number of unique pixel colors (classes) for Pokémon images\n",
        "#     \"hidden_size\": 256,                    # Dimension of hidden representations (reduced from default 4096 for smaller task)\n",
        "#     \"intermediate_size\": 1024,             # Dimension of MLP representations (scaled down from 22016)\n",
        "#     \"num_hidden_layers\": 6,                # Number of transformer layers (aligned with GPT-2's n_layer for simplicity)\n",
        "#     \"num_attention_heads\": 8,              # Number of attention heads (aligned with GPT-2's n_head)\n",
        "#     \"num_key_value_heads\": 8,              # Set equal to num_attention_heads for Multi Head Attention (MHA)\n",
        "#     \"hidden_act\": \"silu\",                  # Non-linear activation function (consistent with Qwen2 default)\n",
        "#     \"max_position_embeddings\": 400,        # Maximum sequence length (20×20 = 400 pixels as tokens)\n",
        "#     \"initializer_range\": 0.02,             # Standard deviation for weight initialization (same as GPT-2)\n",
        "#     \"rms_norm_eps\": 1e-06,                # Epsilon for RMS normalization (Qwen2 default)\n",
        "#     \"use_cache\": True,                     # Enable caching for generation (Qwen2 default)\n",
        "#     \"tie_word_embeddings\": False,          # Input/output embeddings not tied (Qwen2 default)\n",
        "#     \"rope_theta\": 10000.0,                # Base period for RoPE embeddings (Qwen2 default)\n",
        "#     \"rope_scaling\": None,                  # No scaling for RoPE (default, as sequence length is manageable)\n",
        "#     \"use_sliding_window\": False,           # Disable sliding window attention (not needed for short sequences)\n",
        "#     \"sliding_window\": 400,                 # Set to sequence length if used (not applicable here)\n",
        "#     \"max_window_layers\": 6,                # All layers use full attention (aligned with num_hidden_layers)\n",
        "#     \"attention_dropout\": 0.1,             # Dropout for attention probabilities (aligned with GPT-2's attn_pdrop)\n",
        "#     \"bos_token_id\": None,                  # No explicit beginning-of-sequence token for image tokens\n",
        "#     \"eos_token_id\": None,                  # No explicit end-of-sequence token (aligned with GPT-2)\n",
        "#     \"pad_token_id\": None,                  # No padding token (aligned with GPT-2)\n",
        "# }\n",
        "\n",
        "#[qwen2]目前最佳(穩定)\n",
        "qwen2_config = {\n",
        "    \"architectures\": [\"Qwen2ForCausalLM\"],  # 不變，保持因果語言模型\n",
        "    \"model_type\": \"qwen2\",                 # 不變\n",
        "    \"vocab_size\": 167,                     # 不變，匹配167類像素顏色\n",
        "    \"hidden_size\": 512,                    # 從256增加到512，提升表示能力\n",
        "    \"intermediate_size\": 2048,             # 從1024增加到2048，增強MLP容量\n",
        "    \"num_hidden_layers\": 12,               # 從6增加到12，增強序列建模能力\n",
        "    \"num_attention_heads\": 16,             # 從8增加到16，捕捉更細粒度依賴\n",
        "    \"num_key_value_heads\": 16,             # 與num_attention_heads一致，保持MHA\n",
        "    \"hidden_act\": \"silu\",                  # 不變，silu效果良好\n",
        "    \"max_position_embeddings\": 400,        # 不變，匹配20×20序列\n",
        "    \"initializer_range\": 0.02,             # 不變，初始化合理\n",
        "    \"rms_norm_eps\": 1e-06,                # 不變，穩定性足夠\n",
        "    \"use_cache\": True,                     # 不變，支持生成\n",
        "    \"tie_word_embeddings\": False,          # 不變，保持靈活性\n",
        "    \"rope_theta\": 10000.0,                # 不變，RoPE設置合適\n",
        "    \"rope_scaling\": None,                  # 不變，400序列無需縮放\n",
        "    \"use_sliding_window\": True,            # 從False改為True，啟用滑動窗口注意力\n",
        "    \"sliding_window\": 100,                 # 設置為100，聚焦局部像素關係\n",
        "    \"max_window_layers\": 10,               # 底層10層用滑動窗口，頂層2層用全注意力\n",
        "    \"attention_dropout\": 0.2,              # 從0.1增加到0.2，增強正則化\n",
        "    \"bos_token_id\": None,                  # 不變，無需特殊token\n",
        "    \"eos_token_id\": None,                  # 不變\n",
        "    \"pad_token_id\": None,                  # 不變\n",
        "}\n",
        "\n",
        "\n",
        "\n",
        "\n",
        "\n",
        "# [原始]\n",
        "# gpt2_config = {\n",
        "#     \"activation_function\": \"gelu_new\",    # Activation function used in the model\n",
        "#     \"architectures\": [\"GPT2LMHeadModel\"],  # Specifies the model type\n",
        "#     \"attn_pdrop\": 0.1,            # Dropout rate for attention layers\n",
        "#     \"embd_pdrop\": 0.1,            # Dropout rate for embeddings\n",
        "#     \"initializer_range\": 0.02,        # Standard deviation for weight initialization\n",
        "#     \"layer_norm_epsilon\": 1e-05,       # Small constant to improve numerical stability in layer norm\n",
        "#     \"model_type\": \"gpt2\",           # Type of model\n",
        "#     \"n_ctx\": 128,               # Context size (maximum sequence length)\n",
        "#     \"n_embd\": 64,              # Embedding size\n",
        "#     \"n_head\": 2,               # Number of attention heads\n",
        "#     \"n_layer\": 2,              # Number of transformer layers\n",
        "#     \"n_positions\": 400,           # Maximum number of token positions\n",
        "#     \"resid_pdrop\": 0.1,           # Dropout rate for residual connections\n",
        "#     \"vocab_size\": num_classes,       # Number of unique tokens in vocabulary\n",
        "#     \"pad_token_id\": None,          # Padding token ID (None means no padding token)\n",
        "#     \"eos_token_id\": None,          # End-of-sequence token ID (None means not explicitly defined)\n",
        "# }\n",
        "\n",
        "\n",
        "# Load GPT-2 model configuration from dictionary\n",
        "# config = GPT2Config.from_dict(gpt2_config)\n",
        "config = Qwen2Config.from_dict(qwen2_config)\n",
        "# config = LlamaForCausalLM(llama_config)"
      ],
      "metadata": {
        "id": "pDpLtOZBzU3o"
      },
      "execution_count": 10,
      "outputs": []
    },
    {
      "cell_type": "markdown",
      "source": [
        "1. activation_function: \"gelu_new\"\n",
        "意義：這個參數指定了模型中所使用的激活函數。gelu_new 是一種高效的激活函數，常用於Transformer類模型。它比ReLU更平滑，有助於更好的性能。\n",
        "\n",
        "2. architectures: [\"GPT2LMHeadModel\"]\n",
        "意義：這告訴我們模型的架構類型。在這裡，GPT2LMHeadModel表示模型是基於GPT-2架構，並且它是用來進行語言建模（Language Modeling）的，即預測序列中下一個詞。\n",
        "\n",
        "3. attn_pdrop: 0.1\n",
        "意義：這是模型中注意力層的dropout率。0.1表示有10%的概率會丟棄某些神經元來防止過擬合。這有助於增強模型的泛化能力。\n",
        "\n",
        "4. embd_pdrop: 0.1\n",
        "意義：這是嵌入層（Embedding layer）的dropout率，同樣的，這可以幫助防止過擬合。在這裡，10%的嵌入神經元將會被隨機丟棄。\n",
        "\n",
        "5. initializer_range: 0.02\n",
        "意義：這個參數定義了權重初始化的標準差。0.02表示模型的權重將以均勻分佈從[-0.02, 0.02]範圍內進行初始化。這有助於保證模型從合適的起點開始訓練。\n",
        "\n",
        "6. layer_norm_epsilon: 1e-05\n",
        "意義：這是一個小的常數，用於Layer Normalization操作中的分母，以避免數值不穩定。在此處設定為1e-05（0.00001），它能防止在計算中出現除以零的情況。\n",
        "\n",
        "7. model_type: \"gpt2\"\n",
        "意義：這告訴我們模型的具體類型是GPT-2。這是基於Transformer架構的一個自回歸模型，用於語言建模和文本生成。\n",
        "\n",
        "8. n_ctx: 128\n",
        "意義：這是上下文大小，也就是模型一次性可以處理的最大序列長度。在這裡設定為128，表示模型可以處理的最大詞元數是128。更長的上下文通常會讓模型理解更複雜的依賴關係。\n",
        "\n",
        "9. n_embd: 64\n",
        "意義：這是嵌入向量的維度，決定了詞元在嵌入層中被表示為多少維度的向量。在這裡，嵌入維度設為64。\n",
        "\n",
        "10. n_head: 2\n",
        "意義：這是注意力頭的數量。GPT-2模型使用多頭注意力機制，n_head = 2表示每層有2個注意力頭。增加注意力頭的數量可以讓模型捕捉到更多的語言特徵，但也會增加計算成本。\n",
        "\n",
        "11. n_layer: 2\n",
        "意義：這是Transformer層的數量，即有多少層堆疊的自注意力和前向網絡。在這裡，模型有2層。更多的層通常意味著模型更具表現力，但也會增加計算負擔。\n",
        "\n",
        "12. n_positions: 400\n",
        "意義：這是模型能夠處理的最大位置數量。在Transformer模型中，每個詞元會有一個位置編號，用來表示它在序列中的位置。n_positions = 400表示模型能處理最多400個詞元的位置。\n",
        "\n",
        "13. resid_pdrop: 0.1\n",
        "意義：這是殘差連接的dropout率，用於防止過擬合。設置為0.1表示在殘差連接（skip connection）上有10%的概率丟棄神經元。\n",
        "\n",
        "14. vocab_size: num_classes\n",
        "意義：這是詞彙表的大小，也就是模型可以處理的不同詞元的數量。num_classes應該是你數據集中的獨特詞元數量。每個詞元都會有一個唯一的ID，這些ID會映射到嵌入向量中。\n",
        "\n",
        "15. pad_token_id: None\n",
        "意義：這是填充令牌的ID，用於對齊不同長度的序列。如果沒有填充令牌，設置為None。\n",
        "\n",
        "16. eos_token_id: None\n",
        "意義：這是結束標誌令牌的ID，用來標識序列的結尾。如果模型不使用專門的結束標誌，則設置為None。"
      ],
      "metadata": {
        "id": "0B2z-TvIve5t"
      }
    },
    {
      "cell_type": "markdown",
      "source": [
        "### Load Model"
      ],
      "metadata": {
        "id": "JCOELUm4ujej"
      }
    },
    {
      "cell_type": "code",
      "source": [
        "# Load the model using the configuration defined above\n",
        "model = AutoModelForCausalLM.from_config(config)\n",
        "# 返回model架構\n",
        "print(model)\n",
        "\n",
        "# Count trainable parameters\n",
        "trainable_params = sum(p.numel() for p in model.parameters() if p.requires_grad)\n",
        "# 返回有多少Trainable Parameters\n",
        "print(f\"Trainable Parameters: {trainable_params:,}\")"
      ],
      "metadata": {
        "colab": {
          "base_uri": "https://localhost:8080/"
        },
        "id": "4U4JxNF5CFG6",
        "outputId": "7a6aa6d5-9963-430e-c34e-9e3d88351afe"
      },
      "execution_count": 11,
      "outputs": [
        {
          "output_type": "stream",
          "name": "stderr",
          "text": [
            "Sliding Window Attention is enabled but not implemented for `sdpa`; unexpected results may be encountered.\n"
          ]
        },
        {
          "output_type": "stream",
          "name": "stdout",
          "text": [
            "Qwen2ForCausalLM(\n",
            "  (model): Qwen2Model(\n",
            "    (embed_tokens): Embedding(167, 512)\n",
            "    (layers): ModuleList(\n",
            "      (0-11): 12 x Qwen2DecoderLayer(\n",
            "        (self_attn): Qwen2Attention(\n",
            "          (q_proj): Linear(in_features=512, out_features=512, bias=True)\n",
            "          (k_proj): Linear(in_features=512, out_features=512, bias=True)\n",
            "          (v_proj): Linear(in_features=512, out_features=512, bias=True)\n",
            "          (o_proj): Linear(in_features=512, out_features=512, bias=False)\n",
            "        )\n",
            "        (mlp): Qwen2MLP(\n",
            "          (gate_proj): Linear(in_features=512, out_features=2048, bias=False)\n",
            "          (up_proj): Linear(in_features=512, out_features=2048, bias=False)\n",
            "          (down_proj): Linear(in_features=2048, out_features=512, bias=False)\n",
            "          (act_fn): SiLU()\n",
            "        )\n",
            "        (input_layernorm): Qwen2RMSNorm((512,), eps=1e-06)\n",
            "        (post_attention_layernorm): Qwen2RMSNorm((512,), eps=1e-06)\n",
            "      )\n",
            "    )\n",
            "    (norm): Qwen2RMSNorm((512,), eps=1e-06)\n",
            "    (rotary_emb): Qwen2RotaryEmbedding()\n",
            "  )\n",
            "  (lm_head): Linear(in_features=512, out_features=167, bias=False)\n",
            ")\n",
            "Trainable Parameters: 50,533,888\n"
          ]
        }
      ]
    },
    {
      "cell_type": "markdown",
      "source": [
        "# Train and Inference"
      ],
      "metadata": {
        "id": "flJizztpCT01"
      }
    },
    {
      "cell_type": "markdown",
      "source": [
        "### Training Arguments\n",
        "Here, we define the number of epochs for training, the learning rate, the optimizer, and the loss function.\n",
        "*   Hint 3: Adjust the number of epochs and learning rate here to improve performance."
      ],
      "metadata": {
        "id": "d63rxnsCeHa9"
      }
    },
    {
      "cell_type": "code",
      "source": [
        "# modeium baseline可調epochs和learning rate\n",
        "# Training Parameters\n",
        "# epochs = 50\n",
        "epochs = 100\n",
        "\n",
        "# 1e-3 是科學記數法，表示 0.001，意味著每次參數更新時，模型的權重會根據梯度減少 0.001 倍。           # Number of training epochs\n",
        "learning_rate = 1e-3\n",
        "                        # Learning rate for optimizer\n",
        "device = torch.device(\"cuda\" if torch.cuda.is_available() else \"cpu\")     # Check if CUDA is available for GPU\n",
        "save_dir = \"checkpoints\"                               # Directory to save model checkpoints\n",
        "\n",
        "# Loss function and optimizer\n",
        "criterion = nn.CrossEntropyLoss()                          # Loss function for classification tasks\n",
        "optimizer = optim.AdamW(model.parameters(), lr=learning_rate, weight_decay=1e-4) # AdamW optimizer with weight decay\n",
        "# weight_decay=0.1"
      ],
      "metadata": {
        "id": "oJu31QhHeKBj"
      },
      "execution_count": 12,
      "outputs": []
    },
    {
      "cell_type": "markdown",
      "source": [
        "epochs = 50\n",
        "意義：epochs 是訓練過程中遍歷整個訓練數據集的次數。設定為 50 表示模型將會在訓練數據上訓練 50 次（也就是經過 50 個完整的訓練週期）。\n",
        "\n",
        "適合的任務：這個設定較為常見於中等規模的深度學習任務，尤其是數據集不過大（例如幾千到幾萬個樣本）。對於一些比較簡單的模型，這樣的設定可能已經足夠收斂，但對於較複雜的神經網絡或大量數據集，可能需要更多的訓練迭代次數，特別是如果模型在 50 次 epochs 下還沒完全收斂。\n",
        "\n",
        "2. learning_rate = 1e-3\n",
        "意義：學習率 (learning_rate) 控制模型每次參數更新的步伐大小。1e-3 即 0.001，這是常見的學習率，尤其是在使用如 Adam 等自適應優化器時。它表示模型每次更新參數時會根據計算出的梯度調整 0.001 的步長。\n",
        "\n",
        "適合的任務：1e-3 是一個相對中等的學習率，適用於大多數深度學習任務。它能平衡訓練速度和收斂的穩定性。如果使用如 Adam、RMSprop 等優化器，這個學習率一般能有效地使模型逐步收斂。對於大多數中型數據集和深度學習模型（例如 CNNs、RNNs 等），這個學習率是合理的。\n",
        "\n",
        "組合的含義和適用場景\n",
        "適用任務：\n",
        "中等難度的深度學習任務：例如圖像分類、語音識別、文本分類等，數據集的規模適中（例如數千到幾萬樣本）。對於這類任務，50 次 epoch 一般足夠進行有效的訓練，並且學習率 0.001 也能幫助模型在合理的時間內收斂。\n",
        "\n",
        "使用自適應優化器（如 Adam）：如果你使用的優化器是 Adam 或 RMSprop，learning_rate = 1e-3 是一個常見的選擇，這些優化器會根據每個參數的梯度進行自動調整，減少過大學習率帶來的波動或不穩定性。\n",
        "\n",
        "訓練過程：\n",
        "訓練過程中，50 次 epoch 會讓模型有足夠的時間來學習數據中的模式，但如果是更複雜的問題或非常大的數據集，可能會需要更多的 epochs 來完全收斂。此時可以考慮使用 學習率衰減（Learning Rate Decay）來逐步減小學習率，以便在接近最優解時進行更精細的調整。\n",
        "\n",
        "可能需要調整的地方：\n",
        "如果訓練過程不穩定或收斂過慢：如果你發現模型的損失函數下降不穩定或收斂很慢，可以考慮減小學習率，比如設定為 1e-4 或 1e-5，或者增加 epoch 數量。\n",
        "\n",
        "如果訓練過程過於快速且未能充分學習：如果訓練過程過於快速，並且模型的表現差，可能意味著學習率過大，可以嘗試將學習率設為較小的值（例如 1e-4），並觀察結果。\n",
        "----\n",
        "epochs：這取決於你的數據集和模型的表現，對於這樣的任務，通常會需要較多的訓練回合，可能會在50到100次之間。\n",
        "\n",
        "learning rate：建議從較小的學習率（例如1e-4或1e-3）開始，並根據模型訓練的穩定性進行調整。\n",
        "\n",
        "batch size：對於圖像生成問題，通常選擇的batch size較小（例如8或16），這樣可以減少顯存的使用，同時保持訓練的穩定性。"
      ],
      "metadata": {
        "id": "etHySxYUr_Ml"
      }
    },
    {
      "cell_type": "markdown",
      "source": [
        "學習率的大小會影響到模型訓練的速度和效果：\n",
        "\n",
        "如果學習率太大，模型可能會跳過最佳解，無法收斂，或者導致不穩定的訓練過程。\n",
        "\n",
        "如果學習率太小，訓練過程會變得非常慢，且可能陷入局部最小值，無法達到全局最小值。\n",
        "\n",
        "其他常見的學習率選項：\n",
        "learning_rate = 1e-2：較大的學習率，訓練可能更快，但也有可能不穩定。\n",
        "\n",
        "learning_rate = 1e-4：較小的學習率，訓練較為穩定，但可能需要更多的迭代才能收斂。\n",
        "\n",
        "可以替換的學習率值：\n",
        "learning_rate = 0.01：等同於 1e-2，較大的學習率。\n",
        "\n",
        "learning_rate = 0.0001：等同於 1e-4，較小的學習率。\n",
        "\n",
        "learning_rate = 0.0005：可以根據需要手動設置的學習率。\n",
        "\n",
        "learning_rate = 1e-5：非常小的學習率，適用於對精度要求非常高的情況。\n",
        "\n",
        "其他可能的學習率策略：\n",
        "學習率衰減 (Learning Rate Decay)：隨著訓練進行，逐步降低學習率。\n",
        "\n",
        "自適應學習率方法 (如 Adam, Adagrad, RMSprop)：這些方法會根據梯度的變化自動調整學習率。\n",
        "\n",
        "---\n",
        "學習率的大小通常需要與其他超參數和訓練設置相搭配進行調整，以達到最佳的訓練效果。調整學習率時，以下幾個因素會對訓練過程有影響：\n",
        "\n",
        "1. 模型架構\n",
        "簡單模型：例如線性回歸或小型的神經網絡，可能需要較大的學習率，因為這些模型通常比較簡單，容易訓練。\n",
        "\n",
        "複雜模型：例如深層神經網絡（深度學習模型），可能需要較小的學習率，因為它們包含大量的參數，訓練過程較為複雜，需要更細緻的更新步伐以避免過度更新。\n",
        "\n",
        "2. 批次大小 (Batch Size)\n",
        "大批次大小：當使用較大的批次（例如，batch_size = 64 或更多），通常可以使用較大的學習率。這是因為大批次計算出來的梯度估計較為穩定，因此不太容易受到噪音的影響。\n",
        "\n",
        "小批次大小：當批次比較小（例如，batch_size = 16 或更小）時，因為每次更新的梯度可能較為嘈雜，所以通常需要較小的學習率，以減少不穩定性。\n",
        "\n",
        "3. 優化器 (Optimizer)\n",
        "不同的優化器會影響學習率的選擇，某些優化器會自動調整學習率。例如：\n",
        "\n",
        "SGD（隨機梯度下降）：在使用普通的隨機梯度下降（SGD）時，學習率的選擇相對較為關鍵。較大的學習率可能導致不穩定的訓練過程。\n",
        "\n",
        "Adam / RMSprop / Adagrad：這些優化器可以自動調整每個參數的學習率，因此一般來說，可以使用較大的學習率（例如 0.001 或更大）。這些優化器基於參數的歷史梯度來調整學習率，使得學習過程更穩定。\n",
        "\n",
        "4. 梯度的大小和訓練數據的特性\n",
        "梯度的範圍：如果模型的梯度較大（例如，由於數據中包含極端值或某些特定的特徵），可能需要降低學習率來防止梯度爆炸（gradient explosion）。\n",
        "\n",
        "數據規模和質量：如果訓練數據噪音較大或數據規模很大，可能需要適當減小學習率以使模型更穩定地收斂。\n",
        "\n",
        "5. 訓練次數 (Epochs) 和早期停止 (Early Stopping)\n",
        "訓練次數：如果你希望訓練更多的迭代次數來更好地收斂（例如 50~100 次訓練迴圈），可以考慮稍微提高學習率，以便快速進行初期的收斂。\n",
        "\n",
        "早期停止 (Early Stopping)：如果使用了早期停止來避免過擬合，可能需要較小的學習率，以避免在收斂前過度波動。\n",
        "\n",
        "6. 學習率衰減 (Learning Rate Decay)\n",
        "在長時間訓練中，隨著模型接近最優解，學習率會逐漸減小。這樣可以讓模型在達到收斂時更加精確。學習率衰減可以搭配以下策略使用：\n",
        "\n",
        "階段性衰減：例如每訓練若干次 epoch，就將學習率減少一半。\n",
        "\n",
        "指數衰減：學習率會按照一定的指數函數衰減。\n",
        "\n",
        "學習率預熱 (Warmup)：在訓練初期，學習率較低，逐步增大，然後再衰減。\n",
        "\n",
        "7. 損失函數和問題的性質\n",
        "平滑的損失函數：如果損失函數比較光滑，學習率可以相對較大。\n",
        "\n",
        "不光滑的損失函數：如果損失函數不光滑（例如在深度學習中可能出現的鞍點或局部最小值），則學習率應該較小，以避免錯過最佳解。\n",
        "\n",
        "8. 驗證集的表現\n",
        "訓練過程中，可以根據在驗證集上的表現來動態調整學習率。如果模型在驗證集上的損失停滯不前，可以考慮減小學習率以進一步精細調整。\n",
        "\n",
        "如何搭配調整：\n",
        "學習率與優化器配合：如果使用 Adam 或其他自適應優化器，可以嘗試較大的學習率（例如 0.001），並根據結果進行微調。如果使用 SGD，則需要較小的學習率（例如 0.01 或更小）。\n",
        "\n",
        "學習率與批次大小配合：大批次大小配合較大的學習率，小批次大小則配合較小的學習率。"
      ],
      "metadata": {
        "id": "I2PHQKvmqYXu"
      }
    },
    {
      "cell_type": "markdown",
      "source": [
        "### Save Model Function"
      ],
      "metadata": {
        "id": "Xs2kjoD4d_bJ"
      }
    },
    {
      "cell_type": "code",
      "source": [
        "def save_model(model: torch.nn.Module, optimizer: torch.optim.Optimizer, epoch: int, loss: float, save_dir: str, filename: str = \"best_model.pth\") -> None:\n",
        "    \"\"\"\n",
        "    Saves the model state, optimizer state, current epoch, and loss to a specified directory.\n",
        "\n",
        "    Args:\n",
        "        model (torch.nn.Module): The PyTorch model to be saved.\n",
        "        optimizer (torch.optim.Optimizer): The optimizer whose state will be saved.\n",
        "        epoch (int): The current epoch number (used for checkpointing).\n",
        "        loss (float): The current loss value to track model performance.\n",
        "        save_dir (str): The directory where the model checkpoint will be saved.\n",
        "        filename (str, optional): The name of the file to save the model. Defaults to \"best_model.pth\".\n",
        "\n",
        "    Returns:\n",
        "        None\n",
        "    \"\"\"\n",
        "    # Construct the full path for saving the model checkpoint\n",
        "    save_path = os.path.join(save_dir, filename)\n",
        "\n",
        "    # Save the model, optimizer state, and additional metadata (epoch and loss)\n",
        "    torch.save({\n",
        "        'epoch': epoch + 1,                # Save epoch + 1 for easier tracking\n",
        "        'model_state_dict': model.state_dict(),       # Save model weights\n",
        "        'optimizer_state_dict': optimizer.state_dict(),  # Save optimizer state (important for resuming training)\n",
        "        'loss': loss                     # Save the current loss value\n",
        "    }, save_path)\n",
        "\n",
        "    # Print a confirmation message indicating the model has been saved\n",
        "    print(f\"Model saved at {save_path} (Loss: {loss:.4f}, Epoch: {epoch + 1})\")"
      ],
      "metadata": {
        "id": "ZakIXlw_NtDw"
      },
      "execution_count": 13,
      "outputs": []
    },
    {
      "cell_type": "markdown",
      "source": [
        "### Train\n",
        "\n",
        "We save the checkpoint with the lowest training loss since validation set reconstruction accuracy doesn't directly reflect the model's image generation quality.\n",
        "*   Hint 4: Train a classifier to check if an image looks like a Pokémon or not. (Optional)"
      ],
      "metadata": {
        "id": "I0OqYrJxoxx9"
      }
    },
    {
      "cell_type": "code",
      "source": [
        "# 可做:Train a classifier to check if an image looks like a Pokémon or not. (Optional)\n",
        "# 訓練\n",
        "# Create save directory if it doesn't exist\n",
        "os.makedirs(save_dir, exist_ok=True)\n",
        "# Initialize best loss as positive infinity for comparison during model checkpointing\n",
        "best_loss: float = float('inf')\n",
        "# Move model to the appropriate device (GPU or CPU)\n",
        "model.to(device)\n",
        "\n",
        "# Training Loop\n",
        "for epoch in range(epochs):\n",
        "    model.train()  # Set the model to training mode\n",
        "    epoch_loss = 0  # Initialize the epoch loss\n",
        "\n",
        "    # Iterate over training data batches\n",
        "    for input_ids, labels in tqdm(train_dataloader, desc=f\"Training Epoch {epoch + 1}/{epochs}\"):\n",
        "        input_ids, labels = input_ids.to(device), labels.to(device)  # Move data to the same device as the model\n",
        "\n",
        "        # Forward pass through the model to get logits (output probabilities)\n",
        "        outputs = model(input_ids=input_ids).logits.view(-1, config.vocab_size)\n",
        "#llama        # outputs = model(input_ids=input_ids).logits.view(-1, llama_config.vocab_size)\n",
        "        labels = labels.view(-1)  # Flatten labels to match logits shape\n",
        "\n",
        "        # Calculate loss using CrossEntropyLoss\n",
        "        loss = criterion(outputs, labels)\n",
        "\n",
        "        # Backpropagation and optimizer step\n",
        "        optimizer.zero_grad()  # Reset gradients to zero\n",
        "        loss.backward()     # Compute gradients\n",
        "        optimizer.step()     # Update model weights\n",
        "\n",
        "        # Accumulate the loss for the epoch\n",
        "        epoch_loss += loss.item()\n",
        "\n",
        "    # Compute average epoch loss\n",
        "    avg_epoch_loss = epoch_loss / len(train_dataloader)\n",
        "    print(f\"Epoch {epoch + 1}/{epochs}, Loss: {avg_epoch_loss:.4f}\")\n",
        "\n",
        "    #評估\n",
        "    # Evaluation Loop (Validation)\n",
        "    model.eval()      # Set the model to evaluation mode (disables dropout, etc.)\n",
        "    total_accuracy = 0  # Initialize total accuracy\n",
        "    num_batches = 0   # Initialize batch counter\n",
        "\n",
        "    with torch.no_grad():  # Disable gradient calculation for validation\n",
        "        # Iterate over validation data batches\n",
        "        for inputs, labels in tqdm(dev_dataloader, desc=\"Evaluating\"):\n",
        "            inputs, labels = inputs.to(device), labels.to(device)  # Move validation data to device\n",
        "            attention_mask = torch.ones_like(inputs)          # Attention mask to ensure valid token positions\n",
        "\n",
        "            # Perform batch inference using the model\n",
        "            generated_outputs = model.generate(inputs, attention_mask=attention_mask, max_length=400)\n",
        "\n",
        "            # Extract the last 160 tokens from generated outputs and labels\n",
        "            generated_outputs = generated_outputs[:, -160:]\n",
        "\n",
        "            # Calculate accuracy for the batch\n",
        "            accuracy = (generated_outputs == labels).float().mean().item()\n",
        "            total_accuracy += accuracy\n",
        "            num_batches += 1\n",
        "\n",
        "    # Compute average reconstruction accuracy for the epoch\n",
        "    avg_accuracy = total_accuracy / num_batches\n",
        "    print(f\"Epoch {epoch + 1}/{epochs}, Reconstruction Accuracy: {avg_accuracy:.4f}\")\n",
        "    #把最低的traing loss當check point標準\n",
        "    # If the current epoch loss is better (lower) than the best loss, save the model\n",
        "    if avg_epoch_loss < best_loss:\n",
        "        best_loss = avg_epoch_loss                   # Update best loss\n",
        "        save_model(model, optimizer, epoch, best_loss, save_dir)  # Save the model with the best loss"
      ],
      "metadata": {
        "colab": {
          "base_uri": "https://localhost:8080/",
          "height": 1000
        },
        "id": "e1KHQ2UyCNh7",
        "outputId": "4146a8c0-adb4-4234-9e67-24f7bd6e4a2b"
      },
      "execution_count": 14,
      "outputs": [
        {
          "output_type": "stream",
          "name": "stderr",
          "text": [
            "Training Epoch 1/120: 100%|██████████| 40/40 [00:31<00:00,  1.27it/s]\n"
          ]
        },
        {
          "output_type": "stream",
          "name": "stdout",
          "text": [
            "Epoch 1/120, Loss: 3.4027\n"
          ]
        },
        {
          "output_type": "stream",
          "name": "stderr",
          "text": [
            "Evaluating: 100%|██████████| 5/5 [00:12<00:00,  2.41s/it]\n"
          ]
        },
        {
          "output_type": "stream",
          "name": "stdout",
          "text": [
            "Epoch 1/120, Reconstruction Accuracy: 0.3740\n",
            "Model saved at checkpoints/best_model.pth (Loss: 3.4027, Epoch: 1)\n"
          ]
        },
        {
          "output_type": "stream",
          "name": "stderr",
          "text": [
            "Training Epoch 2/120: 100%|██████████| 40/40 [00:32<00:00,  1.24it/s]\n"
          ]
        },
        {
          "output_type": "stream",
          "name": "stdout",
          "text": [
            "Epoch 2/120, Loss: 2.7867\n"
          ]
        },
        {
          "output_type": "stream",
          "name": "stderr",
          "text": [
            "Evaluating: 100%|██████████| 5/5 [00:12<00:00,  2.42s/it]\n"
          ]
        },
        {
          "output_type": "stream",
          "name": "stdout",
          "text": [
            "Epoch 2/120, Reconstruction Accuracy: 0.3694\n",
            "Model saved at checkpoints/best_model.pth (Loss: 2.7867, Epoch: 2)\n"
          ]
        },
        {
          "output_type": "stream",
          "name": "stderr",
          "text": [
            "Training Epoch 3/120: 100%|██████████| 40/40 [00:32<00:00,  1.25it/s]\n"
          ]
        },
        {
          "output_type": "stream",
          "name": "stdout",
          "text": [
            "Epoch 3/120, Loss: 2.1753\n"
          ]
        },
        {
          "output_type": "stream",
          "name": "stderr",
          "text": [
            "Evaluating: 100%|██████████| 5/5 [00:11<00:00,  2.39s/it]\n"
          ]
        },
        {
          "output_type": "stream",
          "name": "stdout",
          "text": [
            "Epoch 3/120, Reconstruction Accuracy: 0.3731\n",
            "Model saved at checkpoints/best_model.pth (Loss: 2.1753, Epoch: 3)\n"
          ]
        },
        {
          "output_type": "stream",
          "name": "stderr",
          "text": [
            "Training Epoch 4/120: 100%|██████████| 40/40 [00:32<00:00,  1.25it/s]\n"
          ]
        },
        {
          "output_type": "stream",
          "name": "stdout",
          "text": [
            "Epoch 4/120, Loss: 1.8086\n"
          ]
        },
        {
          "output_type": "stream",
          "name": "stderr",
          "text": [
            "Evaluating: 100%|██████████| 5/5 [00:11<00:00,  2.40s/it]\n"
          ]
        },
        {
          "output_type": "stream",
          "name": "stdout",
          "text": [
            "Epoch 4/120, Reconstruction Accuracy: 0.3438\n",
            "Model saved at checkpoints/best_model.pth (Loss: 1.8086, Epoch: 4)\n"
          ]
        },
        {
          "output_type": "stream",
          "name": "stderr",
          "text": [
            "Training Epoch 5/120: 100%|██████████| 40/40 [00:32<00:00,  1.24it/s]\n"
          ]
        },
        {
          "output_type": "stream",
          "name": "stdout",
          "text": [
            "Epoch 5/120, Loss: 1.6157\n"
          ]
        },
        {
          "output_type": "stream",
          "name": "stderr",
          "text": [
            "Evaluating: 100%|██████████| 5/5 [00:11<00:00,  2.39s/it]\n"
          ]
        },
        {
          "output_type": "stream",
          "name": "stdout",
          "text": [
            "Epoch 5/120, Reconstruction Accuracy: 0.2690\n",
            "Model saved at checkpoints/best_model.pth (Loss: 1.6157, Epoch: 5)\n"
          ]
        },
        {
          "output_type": "stream",
          "name": "stderr",
          "text": [
            "Training Epoch 6/120: 100%|██████████| 40/40 [00:32<00:00,  1.24it/s]\n"
          ]
        },
        {
          "output_type": "stream",
          "name": "stdout",
          "text": [
            "Epoch 6/120, Loss: 1.4925\n"
          ]
        },
        {
          "output_type": "stream",
          "name": "stderr",
          "text": [
            "Evaluating: 100%|██████████| 5/5 [00:12<00:00,  2.40s/it]\n"
          ]
        },
        {
          "output_type": "stream",
          "name": "stdout",
          "text": [
            "Epoch 6/120, Reconstruction Accuracy: 0.3001\n",
            "Model saved at checkpoints/best_model.pth (Loss: 1.4925, Epoch: 6)\n"
          ]
        },
        {
          "output_type": "stream",
          "name": "stderr",
          "text": [
            "Training Epoch 7/120: 100%|██████████| 40/40 [00:32<00:00,  1.25it/s]\n"
          ]
        },
        {
          "output_type": "stream",
          "name": "stdout",
          "text": [
            "Epoch 7/120, Loss: 1.4071\n"
          ]
        },
        {
          "output_type": "stream",
          "name": "stderr",
          "text": [
            "Evaluating: 100%|██████████| 5/5 [00:11<00:00,  2.37s/it]\n"
          ]
        },
        {
          "output_type": "stream",
          "name": "stdout",
          "text": [
            "Epoch 7/120, Reconstruction Accuracy: 0.3438\n",
            "Model saved at checkpoints/best_model.pth (Loss: 1.4071, Epoch: 7)\n"
          ]
        },
        {
          "output_type": "stream",
          "name": "stderr",
          "text": [
            "Training Epoch 8/120: 100%|██████████| 40/40 [00:32<00:00,  1.24it/s]\n"
          ]
        },
        {
          "output_type": "stream",
          "name": "stdout",
          "text": [
            "Epoch 8/120, Loss: 1.3420\n"
          ]
        },
        {
          "output_type": "stream",
          "name": "stderr",
          "text": [
            "Evaluating: 100%|██████████| 5/5 [00:12<00:00,  2.41s/it]\n"
          ]
        },
        {
          "output_type": "stream",
          "name": "stdout",
          "text": [
            "Epoch 8/120, Reconstruction Accuracy: 0.3300\n",
            "Model saved at checkpoints/best_model.pth (Loss: 1.3420, Epoch: 8)\n"
          ]
        },
        {
          "output_type": "stream",
          "name": "stderr",
          "text": [
            "Training Epoch 9/120: 100%|██████████| 40/40 [00:32<00:00,  1.24it/s]\n"
          ]
        },
        {
          "output_type": "stream",
          "name": "stdout",
          "text": [
            "Epoch 9/120, Loss: 1.2874\n"
          ]
        },
        {
          "output_type": "stream",
          "name": "stderr",
          "text": [
            "Evaluating: 100%|██████████| 5/5 [00:11<00:00,  2.39s/it]\n"
          ]
        },
        {
          "output_type": "stream",
          "name": "stdout",
          "text": [
            "Epoch 9/120, Reconstruction Accuracy: 0.3525\n",
            "Model saved at checkpoints/best_model.pth (Loss: 1.2874, Epoch: 9)\n"
          ]
        },
        {
          "output_type": "stream",
          "name": "stderr",
          "text": [
            "Training Epoch 10/120: 100%|██████████| 40/40 [00:32<00:00,  1.24it/s]\n"
          ]
        },
        {
          "output_type": "stream",
          "name": "stdout",
          "text": [
            "Epoch 10/120, Loss: 1.2323\n"
          ]
        },
        {
          "output_type": "stream",
          "name": "stderr",
          "text": [
            "Evaluating: 100%|██████████| 5/5 [00:12<00:00,  2.41s/it]\n"
          ]
        },
        {
          "output_type": "stream",
          "name": "stdout",
          "text": [
            "Epoch 10/120, Reconstruction Accuracy: 0.3437\n",
            "Model saved at checkpoints/best_model.pth (Loss: 1.2323, Epoch: 10)\n"
          ]
        },
        {
          "output_type": "stream",
          "name": "stderr",
          "text": [
            "Training Epoch 11/120: 100%|██████████| 40/40 [00:32<00:00,  1.24it/s]\n"
          ]
        },
        {
          "output_type": "stream",
          "name": "stdout",
          "text": [
            "Epoch 11/120, Loss: 1.1784\n"
          ]
        },
        {
          "output_type": "stream",
          "name": "stderr",
          "text": [
            "Evaluating: 100%|██████████| 5/5 [00:12<00:00,  2.40s/it]\n"
          ]
        },
        {
          "output_type": "stream",
          "name": "stdout",
          "text": [
            "Epoch 11/120, Reconstruction Accuracy: 0.3430\n",
            "Model saved at checkpoints/best_model.pth (Loss: 1.1784, Epoch: 11)\n"
          ]
        },
        {
          "output_type": "stream",
          "name": "stderr",
          "text": [
            "Training Epoch 12/120: 100%|██████████| 40/40 [00:32<00:00,  1.24it/s]\n"
          ]
        },
        {
          "output_type": "stream",
          "name": "stdout",
          "text": [
            "Epoch 12/120, Loss: 1.1350\n"
          ]
        },
        {
          "output_type": "stream",
          "name": "stderr",
          "text": [
            "Evaluating: 100%|██████████| 5/5 [00:12<00:00,  2.43s/it]\n"
          ]
        },
        {
          "output_type": "stream",
          "name": "stdout",
          "text": [
            "Epoch 12/120, Reconstruction Accuracy: 0.3622\n",
            "Model saved at checkpoints/best_model.pth (Loss: 1.1350, Epoch: 12)\n"
          ]
        },
        {
          "output_type": "stream",
          "name": "stderr",
          "text": [
            "Training Epoch 13/120: 100%|██████████| 40/40 [00:32<00:00,  1.24it/s]\n"
          ]
        },
        {
          "output_type": "stream",
          "name": "stdout",
          "text": [
            "Epoch 13/120, Loss: 1.0897\n"
          ]
        },
        {
          "output_type": "stream",
          "name": "stderr",
          "text": [
            "Evaluating: 100%|██████████| 5/5 [00:12<00:00,  2.41s/it]\n"
          ]
        },
        {
          "output_type": "stream",
          "name": "stdout",
          "text": [
            "Epoch 13/120, Reconstruction Accuracy: 0.3586\n",
            "Model saved at checkpoints/best_model.pth (Loss: 1.0897, Epoch: 13)\n"
          ]
        },
        {
          "output_type": "stream",
          "name": "stderr",
          "text": [
            "Training Epoch 14/120: 100%|██████████| 40/40 [00:32<00:00,  1.24it/s]\n"
          ]
        },
        {
          "output_type": "stream",
          "name": "stdout",
          "text": [
            "Epoch 14/120, Loss: 1.0179\n"
          ]
        },
        {
          "output_type": "stream",
          "name": "stderr",
          "text": [
            "Evaluating: 100%|██████████| 5/5 [00:12<00:00,  2.44s/it]\n"
          ]
        },
        {
          "output_type": "stream",
          "name": "stdout",
          "text": [
            "Epoch 14/120, Reconstruction Accuracy: 0.3689\n",
            "Model saved at checkpoints/best_model.pth (Loss: 1.0179, Epoch: 14)\n"
          ]
        },
        {
          "output_type": "stream",
          "name": "stderr",
          "text": [
            "Training Epoch 15/120: 100%|██████████| 40/40 [00:32<00:00,  1.25it/s]\n"
          ]
        },
        {
          "output_type": "stream",
          "name": "stdout",
          "text": [
            "Epoch 15/120, Loss: 0.9687\n"
          ]
        },
        {
          "output_type": "stream",
          "name": "stderr",
          "text": [
            "Evaluating: 100%|██████████| 5/5 [00:12<00:00,  2.40s/it]\n"
          ]
        },
        {
          "output_type": "stream",
          "name": "stdout",
          "text": [
            "Epoch 15/120, Reconstruction Accuracy: 0.3652\n",
            "Model saved at checkpoints/best_model.pth (Loss: 0.9687, Epoch: 15)\n"
          ]
        },
        {
          "output_type": "stream",
          "name": "stderr",
          "text": [
            "Training Epoch 16/120: 100%|██████████| 40/40 [00:32<00:00,  1.23it/s]\n"
          ]
        },
        {
          "output_type": "stream",
          "name": "stdout",
          "text": [
            "Epoch 16/120, Loss: 0.9153\n"
          ]
        },
        {
          "output_type": "stream",
          "name": "stderr",
          "text": [
            "Evaluating: 100%|██████████| 5/5 [00:12<00:00,  2.42s/it]\n"
          ]
        },
        {
          "output_type": "stream",
          "name": "stdout",
          "text": [
            "Epoch 16/120, Reconstruction Accuracy: 0.3324\n",
            "Model saved at checkpoints/best_model.pth (Loss: 0.9153, Epoch: 16)\n"
          ]
        },
        {
          "output_type": "stream",
          "name": "stderr",
          "text": [
            "Training Epoch 17/120:  62%|██████▎   | 25/40 [00:21<00:12,  1.18it/s]\n"
          ]
        },
        {
          "output_type": "error",
          "ename": "KeyboardInterrupt",
          "evalue": "",
          "traceback": [
            "\u001b[0;31m---------------------------------------------------------------------------\u001b[0m",
            "\u001b[0;31mKeyboardInterrupt\u001b[0m                         Traceback (most recent call last)",
            "\u001b[0;32m<ipython-input-14-f65dea722daf>\u001b[0m in \u001b[0;36m<cell line: 0>\u001b[0;34m()\u001b[0m\n\u001b[1;32m     31\u001b[0m \u001b[0;34m\u001b[0m\u001b[0m\n\u001b[1;32m     32\u001b[0m         \u001b[0;31m# Accumulate the loss for the epoch\u001b[0m\u001b[0;34m\u001b[0m\u001b[0;34m\u001b[0m\u001b[0m\n\u001b[0;32m---> 33\u001b[0;31m         \u001b[0mepoch_loss\u001b[0m \u001b[0;34m+=\u001b[0m \u001b[0mloss\u001b[0m\u001b[0;34m.\u001b[0m\u001b[0mitem\u001b[0m\u001b[0;34m(\u001b[0m\u001b[0;34m)\u001b[0m\u001b[0;34m\u001b[0m\u001b[0;34m\u001b[0m\u001b[0m\n\u001b[0m\u001b[1;32m     34\u001b[0m \u001b[0;34m\u001b[0m\u001b[0m\n\u001b[1;32m     35\u001b[0m     \u001b[0;31m# Compute average epoch loss\u001b[0m\u001b[0;34m\u001b[0m\u001b[0;34m\u001b[0m\u001b[0m\n",
            "\u001b[0;31mKeyboardInterrupt\u001b[0m: "
          ]
        }
      ]
    },
    {
      "cell_type": "markdown",
      "source": [
        "### Inference"
      ],
      "metadata": {
        "id": "mNEXUdGBo5eK"
      }
    },
    {
      "cell_type": "code",
      "source": [
        "#把model load進來做evaluate，生成prediction file\n",
        "# Load the best model from the saved checkpoint\n",
        "best_model_path = os.path.join(save_dir, \"best_model.pth\")              # Path to the best model checkpoint\n",
        "checkpoint = torch.load(best_model_path, weights_only=True, map_location=device)  # Load checkpoint from the file\n",
        "model.load_state_dict(checkpoint[\"model_state_dict\"])                  # Load the model weights from checkpoint\n",
        "model.eval()                                        # Set the model to evaluation mode (disables dropout, etc.)\n",
        "\n",
        "# Testing Loop with Batch Inference\n",
        "results: list = []  # List to store the generated sequences from the model\n",
        "\n",
        "with torch.no_grad():  # Disable gradient calculations for inference\n",
        "    # Iterate over test data in batches\n",
        "    for inputs in tqdm(test_dataloader, desc=\"Generating Outputs\"):\n",
        "        inputs = inputs.to(device)         # Move model to the appropriate device (GPU or CPU)\n",
        "        attention_mask = torch.ones_like(inputs)  # Attention mask (ensure valid token positions)\n",
        "\n",
        "        # Generate predictions for the entire batch\n",
        "        generated_outputs = model.generate(inputs, attention_mask=attention_mask, max_length=400)\n",
        "\n",
        "        # Convert batch outputs to a list and append to results\n",
        "        batch_results = generated_outputs.cpu().numpy().tolist()\n",
        "        results.extend(batch_results)  # Extend the results list with batch results\n",
        "\n",
        "# Save the results to a file\n",
        "output_file: str = \"reconstructed_results.txt\"  # File to save the output sequences\n",
        "with open(output_file, \"w\") as f:\n",
        "    # Write each sequence to the file\n",
        "    for seq in results:\n",
        "        f.write(\" \".join(map(str, seq)) + \"\\n\")\n",
        "\n",
        "print(f\"Reconstructed results saved to {output_file}\")  # Confirmation message"
      ],
      "metadata": {
        "id": "D-A5aGBRGR4q"
      },
      "execution_count": null,
      "outputs": []
    },
    {
      "cell_type": "code",
      "source": [
        "# 查看生成後的圖片\n",
        "# Visualize generated test images\n",
        "predicted_images = [pixel_to_image(sequence, colormap) for sequence in results]\n",
        "show_images(predicted_images)"
      ],
      "metadata": {
        "id": "xPxOAnFHIxfb"
      },
      "execution_count": null,
      "outputs": []
    }
  ]
}