{
 "cells": [
  {
   "cell_type": "markdown",
   "metadata": {},
   "source": [
    "# Programming Assignment: Social Network Database Fix\n",
    "\n",
    "## Welcome!\n",
    "\n",
    "You've reached a practical part of our course, **Generative AI for Software Development - AI-Powered Software and System Design**. This task is all about diving into a database designed for managing a social network. It's a hands-on challenge to test your skills and see how well you can work with AI tools, like a Language Learning Model (LLM).\n",
    "\n",
    "## Your Mission\n",
    "\n",
    "Your job is to fix a database code that's not working right. It's supposed to handle a social network with two main parts: a `Person` table and a `Club` table. There's a mistake in the code, and it's up to you to find and correct it.\n",
    "\n",
    "### Tasks:\n",
    "\n",
    "1. **Fix the Database:** Hunt down the mistake messing up the database and correct it.\n",
    "2. **Write Three Functions:** Use the LLM to help you craft three functions. They should:\n",
    "   - List all members of a specific club.\n",
    "   - List all friends of a specific person.\n",
    "   - List all people who consider a specific person their friend.\n",
    "\n",
    "### Working with the LLM:\n",
    "\n",
    "- **Ask the LLM for Help:** Use the LLM to guide you through fixing the database and creating your functions.\n",
    "- **Use Its Advice Wisely:** Remember, the LLM's advice might not always be spot-on. It's up to you to decide what's useful.\n",
    "\n",
    "## What to Submit:\n",
    "\n",
    "Please submit this Jupyter notebook containing:\n",
    "- The corrected database code.\n",
    "- The three functions you've written.\n",
    "\n",
    "## How We'll Grade It:\n",
    "\n",
    "- **Database Accuracy:** We'll check if you've successfully identified and fixed the issue in the database.\n",
    "- **Functionality of Your Functions:** We'll see if each of your functions is doing exactly what it's supposed to do.\n",
    "\n",
    "## Tips for Success:\n",
    "\n",
    "- **Be Clear with Your Questions:** The clearer your questions to the LLM, the better help you'll get.\n",
    "- **Test the Advice:** Always test out the LLM’s suggestions to ensure they work as expected.\n",
    "- **Hints**: If you struggle with this assignment, you can check some hints we left to you in the bottom of the assignment!"
   ]
  },
  {
   "cell_type": "markdown",
   "metadata": {},
   "source": [
    "### Necessary imports"
   ]
  },
  {
   "cell_type": "code",
   "execution_count": 1,
   "metadata": {
    "tags": [
     "graded"
    ]
   },
   "outputs": [],
   "source": [
    "from sqlalchemy import create_engine, Column, Integer, String, ForeignKey, Table\n",
    "from sqlalchemy.ext.declarative import declarative_base\n",
    "from sqlalchemy.orm import relationship, sessionmaker\n",
    "import numpy as np\n",
    "import os"
   ]
  },
  {
   "cell_type": "code",
   "execution_count": 9,
   "metadata": {},
   "outputs": [],
   "source": [
    "import unittests"
   ]
  },
  {
   "cell_type": "markdown",
   "metadata": {},
   "source": [
    "## The main code\n",
    "\n",
    "Below is the primary code for the assignment. It contains **two significant flaws** that could affect the results of certain functions you'll develop for this task. Identifying the bugs directly from the code might be challenging for an LLM, **so you might need to implement some of the functions to better understand the issues**. Your analytical skills will be crucial. Note that although you are required to create three functions, your submission will be evaluated on four aspects, one of which is the accuracy of your database. Ensure that you address the issues in the code provided!\n",
    "\n",
    "**If you need to start over with a clean version of this assignment, there's a folder named `backup_data` where you can find a fresh copy.**"
   ]
  },
  {
   "cell_type": "code",
   "execution_count": 117,
   "metadata": {
    "colab": {
     "base_uri": "https://localhost:8080/"
    },
    "id": "OML5zvqo0FeL",
    "outputId": "4630141d-fc05-49cb-bce2-a52d544be69c",
    "tags": [
     "graded"
    ]
   },
   "outputs": [],
   "source": [
    "def load_dataset(path = \"./\"):\n",
    "    \"\"\"Loads the dataset\n",
    "    \n",
    "    RUN THE FUNCTION WITHOUT ANY PARAMETER. \n",
    "    THE PARAMETER IS FOR GRADING PURPOSES ONLY.\n",
    "    \n",
    "    \"\"\"\n",
    "    ## DO NOT CHANGE THIS PART ##\n",
    "    # To ensure reproducibility\n",
    "    \n",
    "    np.random.seed(42)\n",
    "    \n",
    "    ## DO NOT CHANGE THIS PART ##\n",
    "    # To avoid populating the same database several times, always exclude it between a new execution.\n",
    "    if 'social_network.db' in os.listdir(path):\n",
    "        os.remove('social_network.db')\n",
    "    \n",
    "    # You may pass echo=True to output information that can help you\n",
    "    engine = create_engine(f'sqlite:///{os.path.join(path, \"social_network.db\")}', echo=False)\n",
    "    Base = declarative_base()\n",
    "    \n",
    "    # Define the friendship association table\n",
    "    friendships = Table('friendships', Base.metadata,\n",
    "        Column('person_id', Integer, ForeignKey('people.id'), primary_key=True),\n",
    "        Column('friend_id', Integer, ForeignKey('people.id'), primary_key=True)\n",
    "    )\n",
    "    \n",
    "    class Person(Base):\n",
    "        __tablename__ = 'people'\n",
    "        id = Column(Integer, primary_key=True)\n",
    "        name = Column(String, primary_key = False)\n",
    "        age = Column(Integer)\n",
    "        gender = Column(String)\n",
    "        location = Column(String)\n",
    "    \n",
    "        friends = relationship(\"Person\",\n",
    "                               secondary=friendships,\n",
    "                               primaryjoin=(friendships.c.person_id == id),\n",
    "                               secondaryjoin=(friendships.c.friend_id == id),\n",
    "                               backref=\"friend_of\")\n",
    "        clubs = relationship(\"Club\", secondary=\"club_members\")\n",
    "    \n",
    "    class Club(Base):\n",
    "        __tablename__ = 'clubs'\n",
    "        id = Column(Integer, primary_key=True)\n",
    "        description = Column(String)\n",
    "    \n",
    "        members = relationship(\"Person\", secondary=\"club_members\")\n",
    "    \n",
    "    club_members = Table('club_members', Base.metadata,\n",
    "        Column('person_id', Integer, ForeignKey('people.id')),\n",
    "        Column('club_id', Integer, ForeignKey('clubs.id'))\n",
    "    )\n",
    "    \n",
    "    # Create the tables in the database\n",
    "    Base.metadata.create_all(engine)\n",
    "    \n",
    "    # Create a session to interact with the database\n",
    "    Session = sessionmaker(bind=engine)\n",
    "    session = Session()\n",
    "    \n",
    "    # Sample data\n",
    "    names = np.array([(\"Alice\", \"New York\", \"Non-binary\", 30), \n",
    "             (\"Bob\", \"Los Angeles\", \"Male\", 18), \n",
    "             (\"Charlie\", \"Chicago\", \"Male\", 60), \n",
    "             (\"David\", \"Houston\", \"Male\", 59),\n",
    "             (\"Eve\", \"Phoenix\", \"Non-binary\", 18), \n",
    "             (\"Frank\", \"Los Angeles\", \"Non-binary\", 72), \n",
    "             (\"Grace\", \"Chicago\", \"Female\", 35), \n",
    "             (\"Henry\", \"Houston\", \"Male\", 21), \n",
    "             (\"Ivy\", \"New York\", \"Female\", 46), \n",
    "             (\"Elena\", \"Phoenix\", \"Female\", 66)])\n",
    "    club_descriptions = [\n",
    "        \"Book Club\", \"Hiking Club\", \"Chess Club\", \"Photography Club\", \"Cooking Club\",\n",
    "        \"Music Club\", \"Gaming Club\", \"Fitness Club\", \"Art Club\", \"Travel Club\"\n",
    "    ]\n",
    "    \n",
    "   # Populate People table\n",
    "    people = []\n",
    "    # for i in range(100):\n",
    "    #     person = Person(\n",
    "    #         name=np.random.choice(names[:,0]),\n",
    "    #         age=np.random.choice(names[:,-1]),\n",
    "    #         gender=np.random.choice(names[:,2]),\n",
    "    #         location=np.random.choice(names[:,1])\n",
    "    #     )\n",
    "    for i in range(len(names)):  # 使用 names 的長度\n",
    "        person = Person(\n",
    "        name=names[i, 0],  # 按索引選擇名字\n",
    "        age=names[i, -1],  # 按索引選擇年齡\n",
    "        gender=names[i, 2],  # 按索引選擇性別\n",
    "        location=names[i, 1]  # 按索引選擇位置\n",
    "        )\n",
    "        people.append(person)\n",
    "        session.add(person)\n",
    "\n",
    "    \n",
    "    # Populate Friendships\n",
    "    # for _ in range(200):  # Create 200 random friendships\n",
    "    #     person1 = np.random.choice(people)\n",
    "    #     person2 = np.random.choice(people)\n",
    "    #     if person1 != person2 and person2 not in person1.friends:\n",
    "    #         person1.friends.append(person2)\n",
    "    friendships_set = set()  # 用於存儲友誼對\n",
    "    \n",
    "    for person1 in people:\n",
    "        while len(person1.friends) < 10:\n",
    "            person2 = np.random.choice(people)\n",
    "            if person1 != person2 and (person1.id, person2.id) not in friendships_set:\n",
    "                friendships_set.add((person1.id, person2.id))\n",
    "                person1.friends.append(person2)\n",
    "                # 這裡也可以選擇性地將 person2 添加到 person1 的朋友列表中，如果需要的話\n",
    "    \n",
    "    # Populate Clubs table\n",
    "    clubs = []\n",
    "    for description in club_descriptions:\n",
    "        club = Club(description=description)\n",
    "        clubs.append(club)\n",
    "        session.add(club)\n",
    "    \n",
    "    # Populate Club Members table\n",
    "    # for club in clubs:\n",
    "    #     num_members = np.random.randint(5, 10)\n",
    "    #     members = set(np.random.choice(people, num_members, replace=False)) \n",
    "    #     club.members.extend(members)\n",
    "    # Populate Club Members table\n",
    "    for club in clubs:\n",
    "        # 確保選擇的成員是唯一的\n",
    "        num_members = np.random.randint(5, min(10, len(people)))  # 隨機選擇的成員數量\n",
    "        selected_members = set()  # 用來存儲選擇的成員\n",
    "    \n",
    "        while len(selected_members) < num_members:\n",
    "            member = np.random.choice(people)  # 隨機選擇成員\n",
    "            selected_members.add(member)  # 添加到已選擇的成員中\n",
    "    \n",
    "        club.members.extend(selected_members)  # 將選擇的成員添加到俱樂部中\n",
    "    \n",
    "    # Commit the changes\n",
    "    session.commit()\n",
    "    \n",
    "    # Close the session\n",
    "    session.close()\n",
    "    \n",
    "    print(\"Database created and populated successfully!\")\n",
    "    return session, Club, Person, friendships"
   ]
  },
  {
   "cell_type": "code",
   "execution_count": null,
   "metadata": {},
   "outputs": [
    {
     "name": "stderr",
     "output_type": "stream",
     "text": [
      "/tmp/ipykernel_9874/637657479.py:20: MovedIn20Warning: The ``declarative_base()`` function is now available as sqlalchemy.orm.declarative_base(). (deprecated since: 2.0) (Background on SQLAlchemy 2.0 at: https://sqlalche.me/e/b8d9)\n",
      "  Base = declarative_base()\n",
      "/tmp/ipykernel_9874/637657479.py:88: SAWarning: relationship 'Club.members' will copy column clubs.id to column club_members.club_id, which conflicts with relationship(s): 'Person.clubs' (copies clubs.id to club_members.club_id). If this is not the intention, consider if these relationships should be linked with back_populates, or if viewonly=True should be applied to one or more if they are read-only. For the less common case that foreign key constraints are partially overlapping, the orm.foreign() annotation can be used to isolate the columns that should be written towards.   To silence this warning, add the parameter 'overlaps=\"clubs\"' to the 'Club.members' relationship. (Background on this warning at: https://sqlalche.me/e/20/qzyx) (This warning originated from the `configure_mappers()` process, which was invoked automatically in response to a user-initiated operation.)\n",
      "  person = Person(\n",
      "/tmp/ipykernel_9874/637657479.py:88: SAWarning: relationship 'Club.members' will copy column people.id to column club_members.person_id, which conflicts with relationship(s): 'Person.clubs' (copies people.id to club_members.person_id). If this is not the intention, consider if these relationships should be linked with back_populates, or if viewonly=True should be applied to one or more if they are read-only. For the less common case that foreign key constraints are partially overlapping, the orm.foreign() annotation can be used to isolate the columns that should be written towards.   To silence this warning, add the parameter 'overlaps=\"clubs\"' to the 'Club.members' relationship. (Background on this warning at: https://sqlalche.me/e/20/qzyx) (This warning originated from the `configure_mappers()` process, which was invoked automatically in response to a user-initiated operation.)\n",
      "  person = Person(\n"
     ]
    }
   ],
   "source": [
    "# Loads the dataset\n",
    "session, Club, Person, friendships = load_dataset()"
   ]
  },
  {
   "cell_type": "markdown",
   "metadata": {},
   "source": [
    "### Exercise 1\n",
    "\n",
    "For this exercise, you are tasked with creating a function named `get_club_members_by_description`. This function should accept a description of a club and a session, and return a list of all its members. **Ensure that this function returns a list containing the defined Person objects.** It must input only a **club description**."
   ]
  },
  {
   "cell_type": "code",
   "execution_count": 115,
   "metadata": {
    "tags": [
     "graded"
    ]
   },
   "outputs": [],
   "source": [
    "def get_club_members(session,club_description):\n",
    "    \"\"\"\n",
    "    Returns a list of Person objects who are members of a club given the club's description.\n",
    "    \n",
    "    Parameters:\n",
    "    - club_description (str): The description of the club for which members are to be retrieved.\n",
    "    \n",
    "    Returns:\n",
    "    - List[Person]: A list of Person objects who are members of the specified club.\n",
    "    \"\"\"\n",
    "    club = session.query(Club).filter(Club.description == club_description).first()\n",
    "    \n",
    "    if club:\n",
    "        # Directly return the members since the relationship should not have duplicates\n",
    "        return club.members\n",
    "    else:\n",
    "        return []\n",
    "\n"
   ]
  },
  {
   "cell_type": "code",
   "execution_count": 111,
   "metadata": {},
   "outputs": [
    {
     "name": "stdout",
     "output_type": "stream",
     "text": [
      "Members of the Hiking Club:\n",
      "- Henry, Age: 21, Location: Houston\n",
      "- Grace, Age: 35, Location: Chicago\n",
      "- David, Age: 59, Location: Houston\n",
      "- Ivy, Age: 46, Location: New York\n",
      "- Bob, Age: 18, Location: Los Angeles\n",
      "- Elena, Age: 66, Location: Phoenix\n"
     ]
    }
   ],
   "source": [
    "# Example usage of the get_club_members function\n",
    "\n",
    "# Assume the session and all models have been correctly set up and populated as per your initial code\n",
    "\n",
    "# Fetching members of the \"Hiking Club\"\n",
    "hiking_club_members = get_club_members(session,\"Hiking Club\")\n",
    "\n",
    "# Printing out the names of all members of the Hiking Club\n",
    "print(\"Members of the Hiking Club:\")\n",
    "for person in hiking_club_members:\n",
    "    print(f\"- {person.name}, Age: {person.age}, Location: {person.location}\")"
   ]
  },
  {
   "cell_type": "code",
   "execution_count": 116,
   "metadata": {},
   "outputs": [
    {
     "ename": "TypeError",
     "evalue": "cannot unpack non-iterable NoneType object",
     "output_type": "error",
     "traceback": [
      "\u001b[0;31m---------------------------------------------------------------------------\u001b[0m",
      "\u001b[0;31mTypeError\u001b[0m                                 Traceback (most recent call last)",
      "Cell \u001b[0;32mIn[116], line 1\u001b[0m\n\u001b[0;32m----> 1\u001b[0m \u001b[43munittests\u001b[49m\u001b[38;5;241;43m.\u001b[39;49m\u001b[43mtest_get_club_members\u001b[49m\u001b[43m(\u001b[49m\u001b[43mload_dataset\u001b[49m\u001b[43m,\u001b[49m\u001b[43m \u001b[49m\u001b[43mget_club_members\u001b[49m\u001b[43m)\u001b[49m\n",
      "File \u001b[0;32m~/work/unittests.py:180\u001b[0m, in \u001b[0;36mtest_get_club_members\u001b[0;34m(load_dataset, function)\u001b[0m\n\u001b[1;32m    178\u001b[0m     session\u001b[38;5;241m.\u001b[39mclose()\n\u001b[1;32m    179\u001b[0m     \u001b[38;5;28;01mreturn\u001b[39;00m cases\n\u001b[0;32m--> 180\u001b[0m cases \u001b[38;5;241m=\u001b[39m \u001b[43mg\u001b[49m\u001b[43m(\u001b[49m\u001b[43m)\u001b[49m\n\u001b[1;32m    181\u001b[0m print_feedback(cases)\n",
      "File \u001b[0;32m~/work/unittests.py:152\u001b[0m, in \u001b[0;36mtest_get_club_members.<locals>.g\u001b[0;34m()\u001b[0m\n\u001b[1;32m    150\u001b[0m         os\u001b[38;5;241m.\u001b[39mremove(file_path)\n\u001b[1;32m    151\u001b[0m \u001b[38;5;28;01mwith\u001b[39;00m suppress_stdout_stderr():\n\u001b[0;32m--> 152\u001b[0m     session, Club, Person, friendships \u001b[38;5;241m=\u001b[39m load_dataset(path \u001b[38;5;241m=\u001b[39m \u001b[38;5;124m'\u001b[39m\u001b[38;5;124m/tmp\u001b[39m\u001b[38;5;124m'\u001b[39m)\n\u001b[1;32m    153\u001b[0m learner \u001b[38;5;241m=\u001b[39m {}\n\u001b[1;32m    154\u001b[0m \u001b[38;5;28;01mfor\u001b[39;00m c \u001b[38;5;129;01min\u001b[39;00m correct\u001b[38;5;241m.\u001b[39mkeys():\n",
      "\u001b[0;31mTypeError\u001b[0m: cannot unpack non-iterable NoneType object"
     ]
    }
   ],
   "source": [
    "unittests.test_get_club_members(load_dataset, get_club_members)"
   ]
  },
  {
   "cell_type": "markdown",
   "metadata": {},
   "source": [
    "### Exercise 2\n",
    "\n",
    "In this exercise, you are required to create a function named `get_friends_of_person`. This function should accept the name of a person and a session, return a list of all their friends. **Ensure that this function returns a list containing the defined Person objects.** The input must be only the **name of a person**."
   ]
  },
  {
   "cell_type": "code",
   "execution_count": 92,
   "metadata": {
    "tags": [
     "graded"
    ]
   },
   "outputs": [],
   "source": [
    "def get_friends_of_person(session, person_name):\n",
    "    \"\"\"\n",
    "    Returns a list of Person objects who are friends with the specified person.\n",
    "    \n",
    "    Parameters:\n",
    "    - person_name (str): The name of the person for whom to retrieve friends.\n",
    "    \n",
    "    Returns:\n",
    "    - List[Person]: A list of Person objects who are friends with the specified person.\n",
    "    \"\"\"\n",
    "    person = session.query(Person).filter(Person.name == person_name).first()\n",
    "    \n",
    "    if person:\n",
    "        # Return the list of friends (which are Person objects)\n",
    "        return person.friends  # This is already a list of Person objects\n",
    "    else:\n",
    "        # If no person was found, return an empty list\n",
    "        return []\n"
   ]
  },
  {
   "cell_type": "code",
   "execution_count": 93,
   "metadata": {},
   "outputs": [
    {
     "name": "stdout",
     "output_type": "stream",
     "text": [
      "Friends of Bob:\n",
      "- Alice, Age: 30, Location: New York\n",
      "- David, Age: 59, Location: Houston\n",
      "- Eve, Age: 18, Location: Phoenix\n",
      "- Frank, Age: 72, Location: Los Angeles\n",
      "- Henry, Age: 21, Location: Houston\n",
      "- Ivy, Age: 46, Location: New York\n",
      "- Elena, Age: 66, Location: Phoenix\n"
     ]
    }
   ],
   "source": [
    "# Example usage of the get_friends_of_person function\n",
    "\n",
    "# Fetching friends of given name\n",
    "name = \"Bob\"\n",
    "\n",
    "alice_friends = get_friends_of_person(session,name)\n",
    "\n",
    "# Printing out the names of all friends of Alice\n",
    "print(f\"Friends of {name}:\")\n",
    "for friend in alice_friends:\n",
    "    print(f\"- {friend.name}, Age: {friend.age}, Location: {friend.location}\")"
   ]
  },
  {
   "cell_type": "code",
   "execution_count": 94,
   "metadata": {},
   "outputs": [
    {
     "name": "stdout",
     "output_type": "stream",
     "text": [
      "\u001b[92m All tests passed!\n"
     ]
    }
   ],
   "source": [
    "unittests.test_get_friends_of_person(load_dataset, get_friends_of_person)"
   ]
  },
  {
   "cell_type": "markdown",
   "metadata": {},
   "source": [
    "### Exercise 3\n",
    "\n",
    "In this exercise, you're tasked with crafting a function called `get_persons_who_consider_them_friend`. This function should take two parameters: the name of an individual and a session. It will return a list of people who count this individual as a friend. It's important to remember that in our database, friendship isn't necessarily mutual. For example, Alice might consider Bob a friend, but Bob might not feel the same way about Alice. **Your function must return a list of Person objects for everyone who considers the input name their friend.** The input to this function should strictly be the **name of the person** you're inquiring about."
   ]
  },
  {
   "cell_type": "code",
   "execution_count": 95,
   "metadata": {
    "tags": [
     "graded"
    ]
   },
   "outputs": [],
   "source": [
    "def get_persons_who_consider_them_friend(session, person_name):\n",
    "    \"\"\"\n",
    "    Returns a list of Person objects who consider the specified person as their friend,\n",
    "    in a scenario where friendships are unidirectional.\n",
    "    \n",
    "    Parameters:\n",
    "    - person_name (str): The name of the person to find who is considered as a friend by others.\n",
    "    \n",
    "    Returns:\n",
    "    - List[Person]: A list of Person objects who consider the specified person as their friend.\n",
    "    \"\"\"\n",
    "    person = session.query(Person).filter(Person.name == person_name).first()\n",
    "    \n",
    "    if not person:\n",
    "        return []  # If no person found, return an empty list\n",
    "    \n",
    "    # Find all persons who list this person as a friend\n",
    "    # We need to query all people and check if `person` is in their friends list\n",
    "    friends_of_person = session.query(Person).filter(Person.friends.any(id=person.id)).all()\n",
    "    \n",
    "    return friends_of_person\n"
   ]
  },
  {
   "cell_type": "code",
   "execution_count": 96,
   "metadata": {},
   "outputs": [
    {
     "name": "stdout",
     "output_type": "stream",
     "text": [
      "People who consider Bob as their friend:\n",
      "- Alice, Age: 30, Location: New York\n",
      "- Charlie, Age: 60, Location: Chicago\n",
      "- David, Age: 59, Location: Houston\n",
      "- Frank, Age: 72, Location: Los Angeles\n",
      "- Grace, Age: 35, Location: Chicago\n",
      "- Henry, Age: 21, Location: Houston\n",
      "- Ivy, Age: 46, Location: New York\n"
     ]
    }
   ],
   "source": [
    "# Example usage of the get_persons_who_consider_them_friend function\n",
    "\n",
    "# Fetching people who consider given name as their friend\n",
    "name = 'Bob'\n",
    "\n",
    "name_friend_of = get_persons_who_consider_them_friend(session, name)\n",
    "\n",
    "# Printing out the names of all people who consider Alice as their friend\n",
    "print(f\"People who consider {name} as their friend:\")\n",
    "for person in name_friend_of:\n",
    "    print(f\"- {person.name}, Age: {person.age}, Location: {person.location}\")"
   ]
  },
  {
   "cell_type": "code",
   "execution_count": 97,
   "metadata": {},
   "outputs": [
    {
     "name": "stdout",
     "output_type": "stream",
     "text": [
      "\u001b[92m All tests passed!\n"
     ]
    }
   ],
   "source": [
    "unittests.test_get_persons_who_consider_them_friend(load_dataset, get_persons_who_consider_them_friend)"
   ]
  },
  {
   "cell_type": "markdown",
   "metadata": {},
   "source": [
    "## Now test your Dataset!"
   ]
  },
  {
   "cell_type": "code",
   "execution_count": 98,
   "metadata": {},
   "outputs": [
    {
     "name": "stdout",
     "output_type": "stream",
     "text": [
      "\u001b[92m All tests passed!\n"
     ]
    }
   ],
   "source": [
    "unittests.test_load_dataset(load_dataset)"
   ]
  },
  {
   "cell_type": "markdown",
   "metadata": {},
   "source": [
    "<details>    \n",
    "<summary>\n",
    "    <font size=\"3\" color=\"darkgreen\"><b>Hint 1</b></font>\n",
    "</summary>\n",
    "<p>\n",
    "Check how the persons are being inserted into the dataset! Does the random is necessary?\n",
    "</p>\n",
    "</details>"
   ]
  },
  {
   "cell_type": "markdown",
   "metadata": {},
   "source": [
    "<details>    \n",
    "<summary>\n",
    "    <font size=\"3\" color=\"darkgreen\"><b>Hint 2</b></font>\n",
    "</summary>\n",
    "<p>\n",
    "You may have to properly handle how friendships are created. Ask an LLM how you can fix that part.\n",
    "</p>\n",
    "</details>"
   ]
  },
  {
   "cell_type": "markdown",
   "metadata": {},
   "source": [
    "<details>    \n",
    "<summary>\n",
    "    <font size=\"3\" color=\"darkgreen\"><b>Hint 3</b></font>\n",
    "</summary>\n",
    "<p>\n",
    "Remember that friendships are not bidirectional! Specify it when asking the LLM to make your last function!\n",
    "</p>\n",
    "</details>"
   ]
  },
  {
   "cell_type": "markdown",
   "metadata": {},
   "source": [
    "Congratulations! You have finished the assignment! Keep up!"
   ]
  }
 ],
 "metadata": {
  "colab": {
   "provenance": []
  },
  "grader_version": "1",
  "kernelspec": {
   "display_name": "Python 3 (ipykernel)",
   "language": "python",
   "name": "python3"
  },
  "language_info": {
   "codemirror_mode": {
    "name": "ipython",
    "version": 3
   },
   "file_extension": ".py",
   "mimetype": "text/x-python",
   "name": "python",
   "nbconvert_exporter": "python",
   "pygments_lexer": "ipython3",
   "version": "3.11.6"
  }
 },
 "nbformat": 4,
 "nbformat_minor": 4
}
